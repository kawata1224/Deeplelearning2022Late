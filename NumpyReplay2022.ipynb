{
  "nbformat": 4,
  "nbformat_minor": 0,
  "metadata": {
    "colab": {
      "provenance": [],
      "authorship_tag": "ABX9TyPfuFGkZouR/+PifjrJi3yh",
      "include_colab_link": true
    },
    "kernelspec": {
      "name": "python3",
      "display_name": "Python 3"
    },
    "language_info": {
      "name": "python"
    }
  },
  "cells": [
    {
      "cell_type": "markdown",
      "metadata": {
        "id": "view-in-github",
        "colab_type": "text"
      },
      "source": [
        "<a href=\"https://colab.research.google.com/github/kawata1224/Deeplelearning2022Late/blob/main/NumpyReplay2022.ipynb\" target=\"_parent\"><img src=\"https://colab.research.google.com/assets/colab-badge.svg\" alt=\"Open In Colab\"/></a>"
      ]
    },
    {
      "cell_type": "code",
      "execution_count": null,
      "metadata": {
        "id": "6WXU6eoJhrbT"
      },
      "outputs": [],
      "source": []
    },
    {
      "cell_type": "markdown",
      "source": [
        "# NumPyを使用する"
      ],
      "metadata": {
        "id": "JoiIAeXwh87k"
      }
    },
    {
      "cell_type": "code",
      "source": [
        "import numpy as  np"
      ],
      "metadata": {
        "id": "YaHct6jviU7j"
      },
      "execution_count": 1,
      "outputs": []
    },
    {
      "cell_type": "markdown",
      "source": [
        "# 配列(アレイ)を作る"
      ],
      "metadata": {
        "id": "HLVr9LsBiavm"
      }
    },
    {
      "cell_type": "code",
      "source": [
        "import numpy as  np\n",
        "x = np.array([1.0, 2.0, 3.0, 4.0, 5.0])\n",
        "print(x)\n",
        "# array()は、Pythonのリストを渡すことでNumPy 用の配列(numpy.ndarray)を生成します。\n",
        "\n",
        "x = np.array([1,2,3])\n",
        "print(x) # [1 2 3]\n",
        "print(type(x)) # <class 'numpy.ndarray'>\n",
        "\n",
        "my_list1 = [1,2,3,4,5]\n",
        "my_array1 = np.array(my_list1) # numpyのarrayを作る\n",
        "\n",
        "my_list2 = [10,20,30,40,50]\n",
        "my_lists = [my_list1, my_list2] # リストのリストを作る。\n",
        "my_lists # [[1, 2, 3, 4, 5], [10, 20, 30, 40, 50]] # リストのリストが完成。\n",
        "\n",
        "# my_listsを使ってNumPyのアレイを使る。（多次元配列を作る）\n",
        "my_array2 = np.array(my_lists)\n",
        "\n",
        "my_array2 # 2行5列の配列ができる。\n",
        "\"\"\"\n",
        "array([[ 1,  2,  3,  4,  5],\n",
        "       [10, 20, 30, 40, 50]])\n",
        "\"\"\"\n",
        "\n",
        "# 次のように、タプルを複数渡すとエラーになってしまいます。\n",
        "# np.array((1,2,3),(4,5,6))\n",
        "\n",
        "\"\"\"\n",
        "Traceback (most recent call last):\n",
        "  File \"<stdin>\", line 1, in <module>\n",
        "TypeError: data type not understood\n",
        "\"\"\""
      ],
      "metadata": {
        "colab": {
          "base_uri": "https://localhost:8080/",
          "height": 89
        },
        "id": "6zF6zlAhiX3v",
        "outputId": "bc3e1435-6c74-4b54-adf5-d41b602bee72"
      },
      "execution_count": 3,
      "outputs": [
        {
          "output_type": "stream",
          "name": "stdout",
          "text": [
            "[1. 2. 3. 4. 5.]\n",
            "[1 2 3]\n",
            "<class 'numpy.ndarray'>\n"
          ]
        },
        {
          "output_type": "execute_result",
          "data": {
            "text/plain": [
              "'\\nTraceback (most recent call last):\\n  File \"<stdin>\", line 1, in <module>\\nTypeError: data type not understood\\n'"
            ],
            "application/vnd.google.colaboratory.intrinsic+json": {
              "type": "string"
            }
          },
          "metadata": {},
          "execution_count": 3
        }
      ]
    },
    {
      "cell_type": "markdown",
      "source": [
        "# NumPy配列の形状を調べる"
      ],
      "metadata": {
        "id": "gykGiu7gi4tX"
      }
    },
    {
      "cell_type": "code",
      "source": [
        "import numpy as np\n",
        "a = np.array([1, 2, 3, 4])\n",
        "a.shape # (4,)が出力される。これは1次元配列でかつ、4つ要素があることを意味します。\n",
        "\n",
        "b = np.array([[1, 2],[3,4]])\n",
        "b.shape # (2, 2) これは行列で、2行2列を意味しています。"
      ],
      "metadata": {
        "colab": {
          "base_uri": "https://localhost:8080/"
        },
        "id": "acbWs3AyipVP",
        "outputId": "81e9e05d-a7e5-4a18-f815-2337e470e393"
      },
      "execution_count": 4,
      "outputs": [
        {
          "output_type": "execute_result",
          "data": {
            "text/plain": [
              "(2, 2)"
            ]
          },
          "metadata": {},
          "execution_count": 4
        }
      ]
    },
    {
      "cell_type": "markdown",
      "source": [
        "# 配列の生成 arange()"
      ],
      "metadata": {
        "id": "Oz8LiHowi97L"
      }
    },
    {
      "cell_type": "code",
      "source": [
        "import numpy as  np\n",
        "# データの準備\n",
        "# 等間隔の数字\n",
        "# 0から9までの数字(配列)を生成\n",
        "x = np.arange(10)\n",
        "print(x)\n",
        "\n",
        "# reshape()は配列を形状に変換します\n",
        "x = np.arange(1, 10).reshape(3,3) # 3×3の多次元配列に変換\n",
        "y = np.arange(1, 10).reshape(3,3) # 3×3の多次元配列に変換\n",
        "\"\"\"\n",
        "xを下記のように書き換えることも可能\n",
        "x = np.reshape(x, (3,3))\n",
        "\"\"\"\n",
        "print(x)\n",
        "print(y)\n",
        "\n",
        "print(x + y)\n",
        "print(x - y)\n",
        "print(x * y)"
      ],
      "metadata": {
        "colab": {
          "base_uri": "https://localhost:8080/"
        },
        "id": "H08tM-ngi8Zi",
        "outputId": "7ac7223d-4817-4749-b19e-10b2c0690186"
      },
      "execution_count": 5,
      "outputs": [
        {
          "output_type": "stream",
          "name": "stdout",
          "text": [
            "[0 1 2 3 4 5 6 7 8 9]\n",
            "[[1 2 3]\n",
            " [4 5 6]\n",
            " [7 8 9]]\n",
            "[[1 2 3]\n",
            " [4 5 6]\n",
            " [7 8 9]]\n",
            "[[ 2  4  6]\n",
            " [ 8 10 12]\n",
            " [14 16 18]]\n",
            "[[0 0 0]\n",
            " [0 0 0]\n",
            " [0 0 0]]\n",
            "[[ 1  4  9]\n",
            " [16 25 36]\n",
            " [49 64 81]]\n"
          ]
        }
      ]
    },
    {
      "cell_type": "markdown",
      "source": [
        "# 配列操作"
      ],
      "metadata": {
        "id": "QH5mJKtXjD4q"
      }
    },
    {
      "cell_type": "code",
      "source": [
        "import numpy as np\n",
        "sample_array = np.arange(10)\n",
        "print(sample_array)\n",
        "\n",
        "# reshapeを使って配列の形状を指定\n",
        "sample_array2 = sample_array.reshape(2,5)\n",
        "print(sample_array2) #array(([0,1,2,3,4],[5,6,7,8,9]])\n",
        "\n",
        "# concatenateを使って、データの結合する(axisで行方向か、縦方向を指定可能)\n",
        "sample_array3 = np.array([[1,2,3],[4,5,6]])\n",
        "sample_array4 = np.array([[7,8,9],[10,11,12]])\n",
        "\n",
        "# 行方向に結合 ([[1,2,3,7,8,9],4,5,6,10,11,12]])\n",
        "print(np.concatenate([sample_array3,sample_array4],axis=1))\n",
        "\n",
        "# hstackでも行方向の結合が可能\n",
        "print(np.hstack((sample_array3,sample_array4)))\n",
        "\n",
        "\n",
        "\n",
        "\"\"\"\n",
        "axis=0で列方向\n",
        "axis=1で行方向です。\n",
        "下記URLを参考ください。\n",
        "https://qiita.com/shuetsu@github/items/2bf8bba233c5ecc7a0ad\n",
        "\"\"\"\n",
        "\n",
        "# axisに0を設定しているので、列方向 ([[1,2,3],[4,5,6],[7,8,9],[10,11,12]])\n",
        "print(np.concatenate([sample_array3,sample_array4],axis=0))\n",
        "\n",
        "# vstackで列方向の結合が可能\n",
        "print(np.vstack((sample_array3,sample_array4)))"
      ],
      "metadata": {
        "colab": {
          "base_uri": "https://localhost:8080/"
        },
        "id": "nwkHkiz5jCoq",
        "outputId": "e536298c-b013-4e16-edb0-b45530d0833b"
      },
      "execution_count": 6,
      "outputs": [
        {
          "output_type": "stream",
          "name": "stdout",
          "text": [
            "[0 1 2 3 4 5 6 7 8 9]\n",
            "[[0 1 2 3 4]\n",
            " [5 6 7 8 9]]\n",
            "[[ 1  2  3  7  8  9]\n",
            " [ 4  5  6 10 11 12]]\n",
            "[[ 1  2  3  7  8  9]\n",
            " [ 4  5  6 10 11 12]]\n",
            "[[ 1  2  3]\n",
            " [ 4  5  6]\n",
            " [ 7  8  9]\n",
            " [10 11 12]]\n",
            "[[ 1  2  3]\n",
            " [ 4  5  6]\n",
            " [ 7  8  9]\n",
            " [10 11 12]]\n"
          ]
        }
      ]
    },
    {
      "cell_type": "markdown",
      "source": [
        "# ブロードキャスト"
      ],
      "metadata": {
        "id": "K03PdYhLjMuA"
      }
    },
    {
      "cell_type": "code",
      "source": [
        "import numpy as np\n",
        "# データの準備\n",
        "sample_array = np.arange(10)\n",
        "print(sample_array)\n",
        "\n",
        "# 上記の配列に「5」を足す計算\n",
        "# 要素をコピーして大きさを揃えて、配列の全ての要素に5を加算\n",
        "print(sample_array + 5)"
      ],
      "metadata": {
        "colab": {
          "base_uri": "https://localhost:8080/"
        },
        "id": "LlLU-IRGjJ-h",
        "outputId": "0871f2b0-844a-4fcb-ff8b-24ac56f5cee3"
      },
      "execution_count": 7,
      "outputs": [
        {
          "output_type": "stream",
          "name": "stdout",
          "text": [
            "[0 1 2 3 4 5 6 7 8 9]\n",
            "[ 5  6  7  8  9 10 11 12 13 14]\n"
          ]
        }
      ]
    },
    {
      "cell_type": "markdown",
      "source": [
        "# 多次元配列の計算"
      ],
      "metadata": {
        "id": "1zr6_d6rjYZF"
      }
    },
    {
      "cell_type": "code",
      "source": [
        "import numpy as np\n",
        "\n",
        "n1 = np.array([1,2,3,4,5])\n",
        "print(n1) # [1 2 3 4 5]\n",
        "\n",
        "# 配列の次元数は np.ndim() 関数で取得可能\n",
        "np.ndim(n1) # 1 -> 1次元\n",
        "\n",
        "# 配列の形状取得にはshapeを使う。タプルでかえってくる\n",
        "n1.shape # (5,) # 変数n1の形状を取得\n",
        "\n",
        "\"\"\"\n",
        "2次元配列 (5,3)\n",
        "\n",
        "3次元配列 (5,5,4)\n",
        "\n",
        "1次元でも2次元でも、同様にタプルで結果が返される。\n",
        "\"\"\"\n",
        "\n",
        "# 3行2列の配列（2次元の配列）を作成\n",
        "\n",
        "\"\"\"\n",
        "2次元配列は行列のことを意味します。\n",
        "3 × 2 の配列は、最初の次元に3つ要素があり、\n",
        "次の次元に2つの要素があるという意味。\n",
        "\n",
        "行(row) 配列の横方向\n",
        "列(column) 配列の縦方向\n",
        "\"\"\"\n",
        "\n",
        "n2 = np.array([[1,2], [3,4], [5,6]])\n",
        "print(n2)\n",
        "\n",
        "\"\"\"\n",
        "[[1 2]\n",
        " [3 4]\n",
        " [5 6]]\n",
        "\"\"\"\n",
        "print(n2.ndim) # 2"
      ],
      "metadata": {
        "colab": {
          "base_uri": "https://localhost:8080/"
        },
        "id": "UPIsc-DgjRQB",
        "outputId": "f986df3d-b8d6-4fd4-a4f3-6a7f702e9c9a"
      },
      "execution_count": 8,
      "outputs": [
        {
          "output_type": "stream",
          "name": "stdout",
          "text": [
            "[1 2 3 4 5]\n",
            "[[1 2]\n",
            " [3 4]\n",
            " [5 6]]\n",
            "2\n"
          ]
        }
      ]
    },
    {
      "cell_type": "markdown",
      "source": [
        "# 行列とは"
      ],
      "metadata": {
        "id": "JzeXNYyIjoRk"
      }
    },
    {
      "cell_type": "code",
      "source": [
        "import numpy as np\n",
        "my_li1 = [-1,4]\n",
        "\n",
        "my_li2 = [3,2]\n",
        "\n",
        "my_li3 = [2,5]\n",
        "\n",
        "my_li4 = [0,1]\n",
        "\n",
        "my_lists = [my_li1,my_li2,my_li3,my_li4]\n",
        "\n",
        "my_array3 = np.array(my_lists)\n",
        "\n",
        "\"\"\"\n",
        "array([[-1,  4],\n",
        "       [ 3,  2],\n",
        "       [ 2,  5],\n",
        "       [ 0,  1]])\n",
        "\"\"\"\n",
        "my_array3"
      ],
      "metadata": {
        "colab": {
          "base_uri": "https://localhost:8080/"
        },
        "id": "Z5TZ13rjjhrW",
        "outputId": "cf4232b7-80c1-4c80-c405-d1b7fc8f475f"
      },
      "execution_count": 10,
      "outputs": [
        {
          "output_type": "execute_result",
          "data": {
            "text/plain": [
              "array([[-1,  4],\n",
              "       [ 3,  2],\n",
              "       [ 2,  5],\n",
              "       [ 0,  1]])"
            ]
          },
          "metadata": {},
          "execution_count": 10
        }
      ]
    },
    {
      "cell_type": "markdown",
      "source": [
        "# 行列 成分"
      ],
      "metadata": {
        "id": "0ne02S0_jzST"
      }
    },
    {
      "cell_type": "code",
      "source": [],
      "metadata": {
        "id": "t2lYgwSSjwVZ"
      },
      "execution_count": null,
      "outputs": []
    }
  ]
}