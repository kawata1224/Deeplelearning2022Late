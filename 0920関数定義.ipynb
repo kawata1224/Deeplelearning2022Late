{
  "nbformat": 4,
  "nbformat_minor": 0,
  "metadata": {
    "colab": {
      "provenance": [],
      "toc_visible": true,
      "authorship_tag": "ABX9TyOgwlCwl+lP7PIxtTBt6rqo",
      "include_colab_link": true
    },
    "kernelspec": {
      "name": "python3",
      "display_name": "Python 3"
    },
    "language_info": {
      "name": "python"
    }
  },
  "cells": [
    {
      "cell_type": "markdown",
      "metadata": {
        "id": "view-in-github",
        "colab_type": "text"
      },
      "source": [
        "<a href=\"https://colab.research.google.com/github/kawata1224/Deeplelearning2022Late/blob/main/0920%E9%96%A2%E6%95%B0%E5%AE%9A%E7%BE%A9.ipynb\" target=\"_parent\"><img src=\"https://colab.research.google.com/assets/colab-badge.svg\" alt=\"Open In Colab\"/></a>"
      ]
    },
    {
      "cell_type": "markdown",
      "source": [
        "#python3で関数を定義する\n",
        "\n",
        "##関数定義"
      ],
      "metadata": {
        "id": "taixwgyebRyt"
      }
    },
    {
      "cell_type": "code",
      "execution_count": 16,
      "metadata": {
        "colab": {
          "base_uri": "https://localhost:8080/"
        },
        "id": "Ze4BSGi9bDNS",
        "outputId": "6144a27c-783e-4472-cb6e-4c201fb6130d"
      },
      "outputs": [
        {
          "output_type": "stream",
          "name": "stdout",
          "text": [
            "test message!\n"
          ]
        }
      ],
      "source": [
        "def hello():\n",
        "  print('hello, kansuu!')\n",
        "print('test message!')"
      ]
    },
    {
      "cell_type": "markdown",
      "source": [
        "##関数を実行する"
      ],
      "metadata": {
        "id": "jNoxWUhpeFi_"
      }
    },
    {
      "cell_type": "code",
      "source": [
        "hello()\n",
        "hello()"
      ],
      "metadata": {
        "colab": {
          "base_uri": "https://localhost:8080/"
        },
        "id": "QQRKhpI6cc-x",
        "outputId": "f1766bb2-d2ca-4f96-b0f4-e67eccec830b"
      },
      "execution_count": 17,
      "outputs": [
        {
          "output_type": "stream",
          "name": "stdout",
          "text": [
            "hello, kansuu!\n",
            "hello, kansuu!\n"
          ]
        }
      ]
    },
    {
      "cell_type": "markdown",
      "source": [
        "## 引数つきの関数を定義する"
      ],
      "metadata": {
        "id": "jO5Ut2Swe8DO"
      }
    },
    {
      "cell_type": "code",
      "source": [
        "def hello(who):\n",
        "  print('hello,' + who + '!')\n",
        "\n",
        "hello('python!')"
      ],
      "metadata": {
        "colab": {
          "base_uri": "https://localhost:8080/"
        },
        "id": "PueqOQ-Te02y",
        "outputId": "390c3ac9-f54d-4647-92aa-c87ea4d3a8a7"
      },
      "execution_count": 18,
      "outputs": [
        {
          "output_type": "stream",
          "name": "stdout",
          "text": [
            "hello,python!!\n"
          ]
        }
      ]
    },
    {
      "cell_type": "markdown",
      "source": [
        "###複数の引数つきの関数を定義"
      ],
      "metadata": {
        "id": "AmYOappkgQVl"
      }
    },
    {
      "cell_type": "code",
      "source": [
        "def hello(who, aisatu):\n",
        "  print('hello,' + who + 'さん' + aisatu)\n",
        "\n",
        "hello('田中', 'おはよう')\n",
        "hello('鈴木', 'こんにちは')"
      ],
      "metadata": {
        "colab": {
          "base_uri": "https://localhost:8080/"
        },
        "id": "aUGkosprfdHR",
        "outputId": "d68ef2c2-7d6c-40aa-f5d8-3a26d190ca56"
      },
      "execution_count": 19,
      "outputs": [
        {
          "output_type": "stream",
          "name": "stdout",
          "text": [
            "hello,田中さんおはよう\n",
            "hello,鈴木さんこんにちは\n"
          ]
        }
      ]
    },
    {
      "cell_type": "markdown",
      "source": [
        "## 関数の戻り値を定義する\n",
        "### 戻り値1つの関数を定義"
      ],
      "metadata": {
        "id": "3IX91ruMhtYK"
      }
    },
    {
      "cell_type": "code",
      "source": [
        "def helloBack(who, aisatu):\n",
        "  return who + 'さん、' + aisatu\n",
        "\n",
        "x = helloBack('佐藤', 'こんばんは')\n",
        "print(x)"
      ],
      "metadata": {
        "colab": {
          "base_uri": "https://localhost:8080/"
        },
        "id": "YEaQsveDhR4C",
        "outputId": "eaf25cb7-cd55-4d2a-a2cd-44760efd04a3"
      },
      "execution_count": 20,
      "outputs": [
        {
          "output_type": "stream",
          "name": "stdout",
          "text": [
            "佐藤さん、こんばんは\n"
          ]
        }
      ]
    },
    {
      "cell_type": "markdown",
      "source": [
        "## 複数の戻り値を返す関数を定義"
      ],
      "metadata": {
        "id": "t6Nz8mHtjez2"
      }
    },
    {
      "cell_type": "code",
      "source": [
        "def keisan(x, y):\n",
        "  return x, y, x+y\n",
        "\n",
        "e, f, g = keisan(3, 6)\n",
        "print(e, f, g)"
      ],
      "metadata": {
        "colab": {
          "base_uri": "https://localhost:8080/"
        },
        "id": "GbvXCFzwi93g",
        "outputId": "aac99598-ee2b-417e-e7bb-a3a3d33647f1"
      },
      "execution_count": 21,
      "outputs": [
        {
          "output_type": "stream",
          "name": "stdout",
          "text": [
            "3 6 9\n"
          ]
        }
      ]
    },
    {
      "cell_type": "markdown",
      "source": [
        "# その他の文法\n",
        "## 分岐(if文)"
      ],
      "metadata": {
        "id": "PVe2FOqElc6r"
      }
    },
    {
      "cell_type": "code",
      "source": [
        "def over(num, thres):\n",
        "  if num > thres:\n",
        "    print(str(num) + 'は' + str(thres) + 'より大きい')\n",
        "  else:\n",
        "    print(str(num) + 'は' + str(thres) + '以下です')\n",
        "\n",
        "over(333, 100)\n",
        "over(-1, 10)\n"
      ],
      "metadata": {
        "colab": {
          "base_uri": "https://localhost:8080/"
        },
        "id": "5Js79LVmkVVI",
        "outputId": "dce81aa0-8682-4f5d-ccf7-0ee4f263639c"
      },
      "execution_count": 22,
      "outputs": [
        {
          "output_type": "stream",
          "name": "stdout",
          "text": [
            "333は100より大きい\n",
            "-1は10以下です\n"
          ]
        }
      ]
    },
    {
      "cell_type": "code",
      "source": [
        "def include(list, keyword):\n",
        "  uniq = set(list)\n",
        "  if keyword in uniq:\n",
        "    print(keyword + 'が含まれる')\n",
        "  else:\n",
        "    print(keyword + 'が含まれない')\n",
        "list_1 = ['アップル', 'ペン', 'ペン', 'パイナップル']\n",
        "include(list_1, 'パイナップル')\n",
        "include(list_1, 'バナナ')"
      ],
      "metadata": {
        "colab": {
          "base_uri": "https://localhost:8080/"
        },
        "id": "jNqjnOe8nVbX",
        "outputId": "a7b8706e-e674-4e07-b546-0b2f38554f46"
      },
      "execution_count": 25,
      "outputs": [
        {
          "output_type": "stream",
          "name": "stdout",
          "text": [
            "パイナップルが含まれる\n",
            "バナナが含まれない\n"
          ]
        }
      ]
    },
    {
      "cell_type": "markdown",
      "source": [
        "## 繰り返し文(while文)"
      ],
      "metadata": {
        "id": "WWQvU7V7wRva"
      }
    },
    {
      "cell_type": "code",
      "source": [
        "def count(max):\n",
        "  num = 0\n",
        "  while num < max:\n",
        "    print(num)\n",
        "    num += 1\n",
        "\n",
        "count(5)"
      ],
      "metadata": {
        "colab": {
          "base_uri": "https://localhost:8080/"
        },
        "id": "900aevYGviTR",
        "outputId": "e5daf86f-db80-4d65-9155-5fc27762a554"
      },
      "execution_count": 26,
      "outputs": [
        {
          "output_type": "stream",
          "name": "stdout",
          "text": [
            "0\n",
            "1\n",
            "2\n",
            "3\n",
            "4\n"
          ]
        }
      ]
    },
    {
      "cell_type": "markdown",
      "source": [
        "## 繰り返し文(for文)\n",
        "\n",
        "###変数βの集合から1つずつ取り出して変数αとして使う\n",
        "for 変数α in range(変数β)"
      ],
      "metadata": {
        "id": "qOnzunoQylBL"
      }
    },
    {
      "cell_type": "code",
      "source": [
        "def every(array):\n",
        "  for x in array:\n",
        "    print(x)\n",
        "\n",
        "list = [1, 2, 3]\n",
        "every(list)\n",
        "tuple = (4, 5, 6)\n",
        "every(tuple)\n",
        "dict = {'a':7, 'b':8, 'c':9}\n",
        "every(dict)\n",
        "values = dict.values()\n",
        "every(values)\n",
        "every('dog')"
      ],
      "metadata": {
        "colab": {
          "base_uri": "https://localhost:8080/"
        },
        "id": "WCLaVg1jxtq9",
        "outputId": "83375ca7-ae1a-4467-e011-35478ba6fb97"
      },
      "execution_count": 32,
      "outputs": [
        {
          "output_type": "stream",
          "name": "stdout",
          "text": [
            "1\n",
            "2\n",
            "3\n",
            "4\n",
            "5\n",
            "6\n",
            "a\n",
            "b\n",
            "c\n",
            "7\n",
            "8\n",
            "9\n",
            "d\n",
            "o\n",
            "g\n"
          ]
        }
      ]
    },
    {
      "cell_type": "code",
      "source": [
        "def count(num):\n",
        "  for i in range(num):\n",
        "    print(i)\n",
        "\n",
        "count(3)"
      ],
      "metadata": {
        "colab": {
          "base_uri": "https://localhost:8080/"
        },
        "id": "TIn-y3h30Owt",
        "outputId": "8a384f69-7cb3-4af9-f6b6-35345e4e1465"
      },
      "execution_count": 33,
      "outputs": [
        {
          "output_type": "stream",
          "name": "stdout",
          "text": [
            "0\n",
            "1\n",
            "2\n"
          ]
        }
      ]
    },
    {
      "cell_type": "markdown",
      "source": [
        "## 繰り返しを中断したいときは、break命令"
      ],
      "metadata": {
        "id": "8fUgOoKW4mZh"
      }
    },
    {
      "cell_type": "code",
      "source": [
        "def stop(array):\n",
        "  for i in array:\n",
        "    if i >= 4:\n",
        "      break\n",
        "    print(i)\n",
        "\n",
        "\n",
        "list = [1, 2, 3, 4, 5, 1, 2, 3, 4, 5]\n",
        "stop(list)"
      ],
      "metadata": {
        "colab": {
          "base_uri": "https://localhost:8080/"
        },
        "id": "qVZIvgr535uc",
        "outputId": "fca2e016-df49-4e3d-bb0e-bd0d612f403b"
      },
      "execution_count": 35,
      "outputs": [
        {
          "output_type": "stream",
          "name": "stdout",
          "text": [
            "1\n",
            "2\n",
            "3\n"
          ]
        }
      ]
    },
    {
      "cell_type": "markdown",
      "source": [
        "## 繰り返しをスキップしたいときは、continue命令"
      ],
      "metadata": {
        "id": "xB-hPMuz6U0q"
      }
    },
    {
      "cell_type": "code",
      "source": [
        "def skip(array):\n",
        "  for i in array:\n",
        "    if i >= 4:\n",
        "      continue\n",
        "    print(i)\n",
        "\n",
        "list = [1, 2, 3, 4, 5, 1, 2, 3, 4, 5]\n",
        "skip(list)"
      ],
      "metadata": {
        "colab": {
          "base_uri": "https://localhost:8080/"
        },
        "id": "2gmLvPBa5sUc",
        "outputId": "e1f1c789-a6f6-429c-f530-475cbd075446"
      },
      "execution_count": 37,
      "outputs": [
        {
          "output_type": "stream",
          "name": "stdout",
          "text": [
            "1\n",
            "2\n",
            "3\n",
            "1\n",
            "2\n",
            "3\n"
          ]
        }
      ]
    },
    {
      "cell_type": "code",
      "source": [],
      "metadata": {
        "id": "6afNLhUk7DSH"
      },
      "execution_count": null,
      "outputs": []
    }
  ]
}