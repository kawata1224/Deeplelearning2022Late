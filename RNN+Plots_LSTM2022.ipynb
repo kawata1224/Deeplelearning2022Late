{
  "nbformat": 4,
  "nbformat_minor": 0,
  "metadata": {
    "colab": {
      "provenance": [],
      "include_colab_link": true
    },
    "kernelspec": {
      "name": "python3",
      "display_name": "Python 3"
    },
    "language_info": {
      "name": "python"
    }
  },
  "cells": [
    {
      "cell_type": "markdown",
      "metadata": {
        "id": "view-in-github",
        "colab_type": "text"
      },
      "source": [
        "<a href=\"https://colab.research.google.com/github/kawata1224/Deeplelearning2022Late/blob/main/RNN%2BPlots_LSTM2022.ipynb\" target=\"_parent\"><img src=\"https://colab.research.google.com/assets/colab-badge.svg\" alt=\"Open In Colab\"/></a>"
      ]
    },
    {
      "cell_type": "code",
      "execution_count": null,
      "metadata": {
        "id": "QFLjqytPLhib"
      },
      "outputs": [],
      "source": [
        "# LSTMのライブラリそのほかをimport\n",
        "from keras.models import Model\n",
        "from keras.layers import Input, LSTM"
      ]
    },
    {
      "cell_type": "code",
      "source": [
        "# SVG表示用のライブラリをimport\n",
        "from IPython.display import SVG\n",
        "from keras.utils.vis_utils import model_to_dot"
      ],
      "metadata": {
        "id": "VLBd79tULtY7"
      },
      "execution_count": null,
      "outputs": []
    },
    {
      "cell_type": "code",
      "source": [
        "# 出力ユニット数、入力のステップ数、入力次元数、inputの形状を定義\n",
        "units = 10\n",
        "time_steps = 5\n",
        "input_dim = 15\n",
        "input_shape = (time_steps, input_dim)"
      ],
      "metadata": {
        "id": "mx_2RqpzLw9l"
      },
      "execution_count": null,
      "outputs": []
    },
    {
      "cell_type": "code",
      "source": [
        "# LSTMのRNN学習モデルを定義して形を表示\n",
        "x = Input(shape=input_shape, name='Input') # 入力層\n",
        "y = LSTM(units=units, activation='sigmoid', name='LSTM_1')(x) # 出力層\n",
        "model = Model(inputs=[x], outputs=[y])"
      ],
      "metadata": {
        "id": "mofjB--7Lypo"
      },
      "execution_count": null,
      "outputs": []
    },
    {
      "cell_type": "code",
      "source": [
        "# SVGで表示\n",
        "SVG(model_to_dot(model, show_shapes=True, dpi=None)\n",
        ".create(prog='dot', format='svg'))"
      ],
      "metadata": {
        "colab": {
          "base_uri": "https://localhost:8080/",
          "height": 206
        },
        "id": "9GxPUtyhL0gp",
        "outputId": "f933a14a-cc78-47b6-9ea0-6539e860eb0b"
      },
      "execution_count": null,
      "outputs": [
        {
          "output_type": "execute_result",
          "data": {
            "text/plain": [
              "<IPython.core.display.SVG object>"
            ],
            "image/svg+xml": "<svg xmlns=\"http://www.w3.org/2000/svg\" xmlns:xlink=\"http://www.w3.org/1999/xlink\" width=\"312pt\" height=\"138pt\" viewBox=\"0.00 0.00 311.50 138.00\">\n<g id=\"graph0\" class=\"graph\" transform=\"scale(1 1) rotate(0) translate(4 134)\">\n<title>G</title>\n<polygon fill=\"white\" stroke=\"transparent\" points=\"-4,4 -4,-134 307.5,-134 307.5,4 -4,4\"/>\n<!-- dpi -->\n<g id=\"node1\" class=\"node\">\n<title>dpi</title>\n<ellipse fill=\"none\" stroke=\"black\" cx=\"27\" cy=\"-106.5\" rx=\"27\" ry=\"18\"/>\n<text text-anchor=\"middle\" x=\"27\" y=\"-102.8\" font-family=\"Times,serif\" font-size=\"14.00\">dpi</text>\n</g>\n<!-- 139814322740000 -->\n<g id=\"node2\" class=\"node\">\n<title>139814322740000</title>\n<polygon fill=\"none\" stroke=\"black\" points=\"72.5,-83.5 72.5,-129.5 303.5,-129.5 303.5,-83.5 72.5,-83.5\"/>\n<text text-anchor=\"middle\" x=\"111\" y=\"-114.3\" font-family=\"Times,serif\" font-size=\"14.00\">Input</text>\n<polyline fill=\"none\" stroke=\"black\" points=\"72.5,-106.5 149.5,-106.5 \"/>\n<text text-anchor=\"middle\" x=\"111\" y=\"-91.3\" font-family=\"Times,serif\" font-size=\"14.00\">InputLayer</text>\n<polyline fill=\"none\" stroke=\"black\" points=\"149.5,-83.5 149.5,-129.5 \"/>\n<text text-anchor=\"middle\" x=\"177\" y=\"-114.3\" font-family=\"Times,serif\" font-size=\"14.00\">input:</text>\n<polyline fill=\"none\" stroke=\"black\" points=\"149.5,-106.5 204.5,-106.5 \"/>\n<text text-anchor=\"middle\" x=\"177\" y=\"-91.3\" font-family=\"Times,serif\" font-size=\"14.00\">output:</text>\n<polyline fill=\"none\" stroke=\"black\" points=\"204.5,-83.5 204.5,-129.5 \"/>\n<text text-anchor=\"middle\" x=\"254\" y=\"-114.3\" font-family=\"Times,serif\" font-size=\"14.00\">[(None, 5, 15)]</text>\n<polyline fill=\"none\" stroke=\"black\" points=\"204.5,-106.5 303.5,-106.5 \"/>\n<text text-anchor=\"middle\" x=\"254\" y=\"-91.3\" font-family=\"Times,serif\" font-size=\"14.00\">[(None, 5, 15)]</text>\n</g>\n<!-- 139814322741200 -->\n<g id=\"node3\" class=\"node\">\n<title>139814322741200</title>\n<polygon fill=\"none\" stroke=\"black\" points=\"82,-0.5 82,-46.5 294,-46.5 294,-0.5 82,-0.5\"/>\n<text text-anchor=\"middle\" x=\"115.5\" y=\"-31.3\" font-family=\"Times,serif\" font-size=\"14.00\">LSTM_1</text>\n<polyline fill=\"none\" stroke=\"black\" points=\"82,-23.5 149,-23.5 \"/>\n<text text-anchor=\"middle\" x=\"115.5\" y=\"-8.3\" font-family=\"Times,serif\" font-size=\"14.00\">LSTM</text>\n<polyline fill=\"none\" stroke=\"black\" points=\"149,-0.5 149,-46.5 \"/>\n<text text-anchor=\"middle\" x=\"176.5\" y=\"-31.3\" font-family=\"Times,serif\" font-size=\"14.00\">input:</text>\n<polyline fill=\"none\" stroke=\"black\" points=\"149,-23.5 204,-23.5 \"/>\n<text text-anchor=\"middle\" x=\"176.5\" y=\"-8.3\" font-family=\"Times,serif\" font-size=\"14.00\">output:</text>\n<polyline fill=\"none\" stroke=\"black\" points=\"204,-0.5 204,-46.5 \"/>\n<text text-anchor=\"middle\" x=\"249\" y=\"-31.3\" font-family=\"Times,serif\" font-size=\"14.00\">(None, 5, 15)</text>\n<polyline fill=\"none\" stroke=\"black\" points=\"204,-23.5 294,-23.5 \"/>\n<text text-anchor=\"middle\" x=\"249\" y=\"-8.3\" font-family=\"Times,serif\" font-size=\"14.00\">(None, 10)</text>\n</g>\n<!-- 139814322740000&#45;&gt;139814322741200 -->\n<g id=\"edge1\" class=\"edge\">\n<title>139814322740000-&gt;139814322741200</title>\n<path fill=\"none\" stroke=\"black\" d=\"M188,-83.37C188,-75.15 188,-65.66 188,-56.73\"/>\n<polygon fill=\"black\" stroke=\"black\" points=\"191.5,-56.61 188,-46.61 184.5,-56.61 191.5,-56.61\"/>\n</g>\n</g>\n</svg>"
          },
          "metadata": {},
          "execution_count": 5
        }
      ]
    },
    {
      "cell_type": "code",
      "source": [
        "#c 入力層xは流用\n",
        "y = LSTM(units=units, activation='sigmoid', name='LSTM_2',\n",
        "         return_sequences=True)(x)\n",
        "model = Model(inputs=[x], outputs=[y])"
      ],
      "metadata": {
        "id": "iCtkCCvHL2jQ"
      },
      "execution_count": null,
      "outputs": []
    },
    {
      "cell_type": "code",
      "source": [
        "# SVGで表示\n",
        "SVG(model_to_dot(model, show_shapes=True, dpi=None)\n",
        ".create(prog='dot', format='svg'))"
      ],
      "metadata": {
        "colab": {
          "base_uri": "https://localhost:8080/",
          "height": 206
        },
        "id": "ZlJRm7BSL4N_",
        "outputId": "8e5e8044-14fd-49b8-c043-9f715d9b4fc8"
      },
      "execution_count": null,
      "outputs": [
        {
          "output_type": "execute_result",
          "data": {
            "text/plain": [
              "<IPython.core.display.SVG object>"
            ],
            "image/svg+xml": "<svg xmlns=\"http://www.w3.org/2000/svg\" xmlns:xlink=\"http://www.w3.org/1999/xlink\" width=\"312pt\" height=\"138pt\" viewBox=\"0.00 0.00 311.50 138.00\">\n<g id=\"graph0\" class=\"graph\" transform=\"scale(1 1) rotate(0) translate(4 134)\">\n<title>G</title>\n<polygon fill=\"white\" stroke=\"transparent\" points=\"-4,4 -4,-134 307.5,-134 307.5,4 -4,4\"/>\n<!-- dpi -->\n<g id=\"node1\" class=\"node\">\n<title>dpi</title>\n<ellipse fill=\"none\" stroke=\"black\" cx=\"27\" cy=\"-106.5\" rx=\"27\" ry=\"18\"/>\n<text text-anchor=\"middle\" x=\"27\" y=\"-102.8\" font-family=\"Times,serif\" font-size=\"14.00\">dpi</text>\n</g>\n<!-- 139814322740000 -->\n<g id=\"node2\" class=\"node\">\n<title>139814322740000</title>\n<polygon fill=\"none\" stroke=\"black\" points=\"72.5,-83.5 72.5,-129.5 303.5,-129.5 303.5,-83.5 72.5,-83.5\"/>\n<text text-anchor=\"middle\" x=\"111\" y=\"-114.3\" font-family=\"Times,serif\" font-size=\"14.00\">Input</text>\n<polyline fill=\"none\" stroke=\"black\" points=\"72.5,-106.5 149.5,-106.5 \"/>\n<text text-anchor=\"middle\" x=\"111\" y=\"-91.3\" font-family=\"Times,serif\" font-size=\"14.00\">InputLayer</text>\n<polyline fill=\"none\" stroke=\"black\" points=\"149.5,-83.5 149.5,-129.5 \"/>\n<text text-anchor=\"middle\" x=\"177\" y=\"-114.3\" font-family=\"Times,serif\" font-size=\"14.00\">input:</text>\n<polyline fill=\"none\" stroke=\"black\" points=\"149.5,-106.5 204.5,-106.5 \"/>\n<text text-anchor=\"middle\" x=\"177\" y=\"-91.3\" font-family=\"Times,serif\" font-size=\"14.00\">output:</text>\n<polyline fill=\"none\" stroke=\"black\" points=\"204.5,-83.5 204.5,-129.5 \"/>\n<text text-anchor=\"middle\" x=\"254\" y=\"-114.3\" font-family=\"Times,serif\" font-size=\"14.00\">[(None, 5, 15)]</text>\n<polyline fill=\"none\" stroke=\"black\" points=\"204.5,-106.5 303.5,-106.5 \"/>\n<text text-anchor=\"middle\" x=\"254\" y=\"-91.3\" font-family=\"Times,serif\" font-size=\"14.00\">[(None, 5, 15)]</text>\n</g>\n<!-- 139814248443424 -->\n<g id=\"node3\" class=\"node\">\n<title>139814248443424</title>\n<polygon fill=\"none\" stroke=\"black\" points=\"82,-0.5 82,-46.5 294,-46.5 294,-0.5 82,-0.5\"/>\n<text text-anchor=\"middle\" x=\"115.5\" y=\"-31.3\" font-family=\"Times,serif\" font-size=\"14.00\">LSTM_2</text>\n<polyline fill=\"none\" stroke=\"black\" points=\"82,-23.5 149,-23.5 \"/>\n<text text-anchor=\"middle\" x=\"115.5\" y=\"-8.3\" font-family=\"Times,serif\" font-size=\"14.00\">LSTM</text>\n<polyline fill=\"none\" stroke=\"black\" points=\"149,-0.5 149,-46.5 \"/>\n<text text-anchor=\"middle\" x=\"176.5\" y=\"-31.3\" font-family=\"Times,serif\" font-size=\"14.00\">input:</text>\n<polyline fill=\"none\" stroke=\"black\" points=\"149,-23.5 204,-23.5 \"/>\n<text text-anchor=\"middle\" x=\"176.5\" y=\"-8.3\" font-family=\"Times,serif\" font-size=\"14.00\">output:</text>\n<polyline fill=\"none\" stroke=\"black\" points=\"204,-0.5 204,-46.5 \"/>\n<text text-anchor=\"middle\" x=\"249\" y=\"-31.3\" font-family=\"Times,serif\" font-size=\"14.00\">(None, 5, 15)</text>\n<polyline fill=\"none\" stroke=\"black\" points=\"204,-23.5 294,-23.5 \"/>\n<text text-anchor=\"middle\" x=\"249\" y=\"-8.3\" font-family=\"Times,serif\" font-size=\"14.00\">(None, 5, 10)</text>\n</g>\n<!-- 139814322740000&#45;&gt;139814248443424 -->\n<g id=\"edge1\" class=\"edge\">\n<title>139814322740000-&gt;139814248443424</title>\n<path fill=\"none\" stroke=\"black\" d=\"M188,-83.37C188,-75.15 188,-65.66 188,-56.73\"/>\n<polygon fill=\"black\" stroke=\"black\" points=\"191.5,-56.61 188,-46.61 184.5,-56.61 191.5,-56.61\"/>\n</g>\n</g>\n</svg>"
          },
          "metadata": {},
          "execution_count": 7
        }
      ]
    },
    {
      "cell_type": "code",
      "source": [
        "y, stat_1, stat_2 = LSTM(units=units, activation='sigmoid', name='LSTM_3',return_sequences=True)(x)\n",
        "model = Model(inputs=[x], outputs=[y])"
      ],
      "metadata": {
        "colab": {
          "base_uri": "https://localhost:8080/",
          "height": 337
        },
        "id": "P7aTI2t5L5oL",
        "outputId": "8429bb12-e71e-4311-d985-df00c730a6df"
      },
      "execution_count": null,
      "outputs": [
        {
          "output_type": "error",
          "ename": "TypeError",
          "evalue": "ignored",
          "traceback": [
            "\u001b[0;31m---------------------------------------------------------------------------\u001b[0m",
            "\u001b[0;31mTypeError\u001b[0m                                 Traceback (most recent call last)",
            "\u001b[0;32m<ipython-input-9-72d5e5417d3f>\u001b[0m in \u001b[0;36m<module>\u001b[0;34m\u001b[0m\n\u001b[0;32m----> 1\u001b[0;31m \u001b[0my\u001b[0m\u001b[0;34m,\u001b[0m \u001b[0mstat_1\u001b[0m\u001b[0;34m,\u001b[0m \u001b[0mstat_2\u001b[0m \u001b[0;34m=\u001b[0m \u001b[0mLSTM\u001b[0m\u001b[0;34m(\u001b[0m\u001b[0munits\u001b[0m\u001b[0;34m=\u001b[0m\u001b[0munits\u001b[0m\u001b[0;34m,\u001b[0m \u001b[0mactivation\u001b[0m\u001b[0;34m=\u001b[0m\u001b[0;34m'sigmoid'\u001b[0m\u001b[0;34m,\u001b[0m \u001b[0mname\u001b[0m\u001b[0;34m=\u001b[0m\u001b[0;34m'LSTM_3'\u001b[0m\u001b[0;34m,\u001b[0m\u001b[0mreturn_sequences\u001b[0m\u001b[0;34m=\u001b[0m\u001b[0;32mTrue\u001b[0m\u001b[0;34m)\u001b[0m\u001b[0;34m(\u001b[0m\u001b[0mx\u001b[0m\u001b[0;34m)\u001b[0m\u001b[0;34m\u001b[0m\u001b[0;34m\u001b[0m\u001b[0m\n\u001b[0m\u001b[1;32m      2\u001b[0m \u001b[0mmodel\u001b[0m \u001b[0;34m=\u001b[0m \u001b[0mModel\u001b[0m\u001b[0;34m(\u001b[0m\u001b[0minputs\u001b[0m\u001b[0;34m=\u001b[0m\u001b[0;34m[\u001b[0m\u001b[0mx\u001b[0m\u001b[0;34m]\u001b[0m\u001b[0;34m,\u001b[0m \u001b[0moutputs\u001b[0m\u001b[0;34m=\u001b[0m\u001b[0;34m[\u001b[0m\u001b[0my\u001b[0m\u001b[0;34m]\u001b[0m\u001b[0;34m)\u001b[0m\u001b[0;34m\u001b[0m\u001b[0;34m\u001b[0m\u001b[0m\n",
            "\u001b[0;32m/usr/local/lib/python3.8/dist-packages/keras/engine/keras_tensor.py\u001b[0m in \u001b[0;36m__iter__\u001b[0;34m(self)\u001b[0m\n\u001b[1;32m    366\u001b[0m       \u001b[0;32mraise\u001b[0m \u001b[0mTypeError\u001b[0m\u001b[0;34m(\u001b[0m\u001b[0;34m'Cannot iterate over a scalar.'\u001b[0m\u001b[0;34m)\u001b[0m\u001b[0;34m\u001b[0m\u001b[0;34m\u001b[0m\u001b[0m\n\u001b[1;32m    367\u001b[0m     \u001b[0;32mif\u001b[0m \u001b[0mshape\u001b[0m\u001b[0;34m[\u001b[0m\u001b[0;36m0\u001b[0m\u001b[0;34m]\u001b[0m \u001b[0;32mis\u001b[0m \u001b[0;32mNone\u001b[0m\u001b[0;34m:\u001b[0m\u001b[0;34m\u001b[0m\u001b[0;34m\u001b[0m\u001b[0m\n\u001b[0;32m--> 368\u001b[0;31m       raise TypeError(\n\u001b[0m\u001b[1;32m    369\u001b[0m           'Cannot iterate over a Tensor with unknown first dimension.')\n\u001b[1;32m    370\u001b[0m     \u001b[0;32mreturn\u001b[0m \u001b[0m_KerasTensorIterator\u001b[0m\u001b[0;34m(\u001b[0m\u001b[0mself\u001b[0m\u001b[0;34m,\u001b[0m \u001b[0mshape\u001b[0m\u001b[0;34m[\u001b[0m\u001b[0;36m0\u001b[0m\u001b[0;34m]\u001b[0m\u001b[0;34m)\u001b[0m\u001b[0;34m\u001b[0m\u001b[0;34m\u001b[0m\u001b[0m\n",
            "\u001b[0;31mTypeError\u001b[0m: Cannot iterate over a Tensor with unknown first dimension."
          ]
        }
      ]
    },
    {
      "cell_type": "code",
      "source": [],
      "metadata": {
        "id": "R_MFVu-uL7jy"
      },
      "execution_count": null,
      "outputs": []
    }
  ]
}