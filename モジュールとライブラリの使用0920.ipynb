{
  "nbformat": 4,
  "nbformat_minor": 0,
  "metadata": {
    "colab": {
      "provenance": [],
      "collapsed_sections": [],
      "authorship_tag": "ABX9TyPIzRUflYLwKVPoO93VlhEv",
      "include_colab_link": true
    },
    "kernelspec": {
      "name": "python3",
      "display_name": "Python 3"
    },
    "language_info": {
      "name": "python"
    }
  },
  "cells": [
    {
      "cell_type": "markdown",
      "metadata": {
        "id": "view-in-github",
        "colab_type": "text"
      },
      "source": [
        "<a href=\"https://colab.research.google.com/github/kawata1224/Deeplelearning2022Late/blob/main/%E3%83%A2%E3%82%B8%E3%83%A5%E3%83%BC%E3%83%AB%E3%81%A8%E3%83%A9%E3%82%A4%E3%83%96%E3%83%A9%E3%83%AA%E3%81%AE%E4%BD%BF%E7%94%A80920.ipynb\" target=\"_parent\"><img src=\"https://colab.research.google.com/assets/colab-badge.svg\" alt=\"Open In Colab\"/></a>"
      ]
    },
    {
      "cell_type": "markdown",
      "source": [
        "# モジュールを使う\n",
        "import文でモジュールを読み込んで使う\n",
        "\n",
        "例）math\n"
      ],
      "metadata": {
        "id": "D5UL0ePP89GA"
      }
    },
    {
      "cell_type": "code",
      "source": [
        "import math\n",
        "print(math.pi)\n",
        "print(math.pow(5, 2))\n",
        "print(math.sqrt(9))"
      ],
      "metadata": {
        "colab": {
          "base_uri": "https://localhost:8080/"
        },
        "id": "zpd4JslG9U_E",
        "outputId": "470f09af-115b-437f-c53d-a4db47a03de4"
      },
      "execution_count": 1,
      "outputs": [
        {
          "output_type": "stream",
          "name": "stdout",
          "text": [
            "3.141592653589793\n",
            "25.0\n",
            "3.0\n"
          ]
        }
      ]
    },
    {
      "cell_type": "markdown",
      "source": [
        "## Numpy -- 数値計算用の便利なライブラリ\n",
        "\n",
        "https://numpy.org/"
      ],
      "metadata": {
        "id": "7DnQXyxD_YIa"
      }
    },
    {
      "cell_type": "code",
      "source": [
        "import numpy as np\n"
      ],
      "metadata": {
        "id": "SoaPb0AD9tjt"
      },
      "execution_count": 2,
      "outputs": []
    },
    {
      "cell_type": "markdown",
      "source": [
        "### numpy配列(ndarray)を作る\n",
        "\n"
      ],
      "metadata": {
        "id": "GPN7ThhPoc-J"
      }
    },
    {
      "cell_type": "code",
      "source": [
        "a = np.array([5, 7, 3, 1, 4, 3])\n",
        "print(a)"
      ],
      "metadata": {
        "colab": {
          "base_uri": "https://localhost:8080/"
        },
        "id": "sJYr4MngouY8",
        "outputId": "16713471-9d5e-4be6-a146-ac84181de86d"
      },
      "execution_count": 3,
      "outputs": [
        {
          "output_type": "stream",
          "name": "stdout",
          "text": [
            "[5 7 3 1 4 3]\n"
          ]
        }
      ]
    },
    {
      "cell_type": "markdown",
      "source": [
        "### Numpyで配列の操作をしてみる\n",
        "\n",
        "配列を構成しなおす"
      ],
      "metadata": {
        "id": "jkZyTabDqVmW"
      }
    },
    {
      "cell_type": "code",
      "source": [
        "print(a)\n",
        "b = a.reshape([3, 2])\n",
        "print(b)"
      ],
      "metadata": {
        "colab": {
          "base_uri": "https://localhost:8080/"
        },
        "id": "1NVazImSqRb0",
        "outputId": "bfd2fc7e-10a8-46b5-c43e-5a286b13f122"
      },
      "execution_count": 4,
      "outputs": [
        {
          "output_type": "stream",
          "name": "stdout",
          "text": [
            "[5 7 3 1 4 3]\n",
            "[[5 7]\n",
            " [3 1]\n",
            " [4 3]]\n"
          ]
        }
      ]
    },
    {
      "cell_type": "markdown",
      "source": [
        "### Numpy配列の中身を初期化して作る"
      ],
      "metadata": {
        "id": "ZXxLs9qIr51Y"
      }
    },
    {
      "cell_type": "code",
      "source": [
        "c = np.zeros((3,4))\n",
        "print(c)\n",
        "np.random.seed(0)\n",
        "r = np.random.rand(3,4)\n",
        "print(r)"
      ],
      "metadata": {
        "colab": {
          "base_uri": "https://localhost:8080/"
        },
        "id": "oQTnPx4mq_0e",
        "outputId": "9d3aaa01-2c8d-46b2-f565-c6d51d214964"
      },
      "execution_count": 5,
      "outputs": [
        {
          "output_type": "stream",
          "name": "stdout",
          "text": [
            "[[0. 0. 0. 0.]\n",
            " [0. 0. 0. 0.]\n",
            " [0. 0. 0. 0.]]\n",
            "[[0.5488135  0.71518937 0.60276338 0.54488318]\n",
            " [0.4236548  0.64589411 0.43758721 0.891773  ]\n",
            " [0.96366276 0.38344152 0.79172504 0.52889492]]\n"
          ]
        }
      ]
    },
    {
      "cell_type": "markdown",
      "source": [
        "## Numpyスライスのやり方\n",
        "### 基本\n",
        "スライスの指定の仕方\n",
        "[start:stop:step]で指定する"
      ],
      "metadata": {
        "id": "Y70JmjE2ua83"
      }
    },
    {
      "cell_type": "code",
      "source": [
        "l = list(range(10))\n",
        "print(l)\n",
        "print(l[4:8])\n",
        "print(l[::-1])"
      ],
      "metadata": {
        "colab": {
          "base_uri": "https://localhost:8080/"
        },
        "id": "dd49Lt1KspSV",
        "outputId": "5ffe042a-7bb8-4776-adbb-0116eb1721e7"
      },
      "execution_count": 6,
      "outputs": [
        {
          "output_type": "stream",
          "name": "stdout",
          "text": [
            "[0, 1, 2, 3, 4, 5, 6, 7, 8, 9]\n",
            "[4, 5, 6, 7]\n",
            "[9, 8, 7, 6, 5, 4, 3, 2, 1, 0]\n"
          ]
        }
      ]
    },
    {
      "cell_type": "markdown",
      "source": [
        "### Numpy配列(adarray)におけるスライス"
      ],
      "metadata": {
        "id": "CCVcchU0w7S9"
      }
    },
    {
      "cell_type": "code",
      "source": [
        "a = np.arange(10)\n",
        "print(a)\n",
        "print(a[2:8])\n",
        "print(a[2:8:2])\n",
        "print(a[2:8:3])"
      ],
      "metadata": {
        "id": "lSEEmp-jvSD2",
        "colab": {
          "base_uri": "https://localhost:8080/"
        },
        "outputId": "a46f4825-9faf-4342-efa8-1223945e8c65"
      },
      "execution_count": 7,
      "outputs": [
        {
          "output_type": "stream",
          "name": "stdout",
          "text": [
            "[0 1 2 3 4 5 6 7 8 9]\n",
            "[2 3 4 5 6 7]\n",
            "[2 4 6]\n",
            "[2 5]\n"
          ]
        }
      ]
    },
    {
      "cell_type": "markdown",
      "source": [
        "### １次元配列のadarrayのスライスに代入"
      ],
      "metadata": {
        "id": "zNe2O_j1zpn3"
      }
    },
    {
      "cell_type": "code",
      "source": [
        "print(a)\n",
        "a[3:6] = 100\n",
        "print(a)\n",
        "a[3:6] = [100, 200, 300]\n",
        "print(a)\n",
        "a = np.arange(10)\n",
        "print(a)\n",
        "a[2:8:2] = 100\n",
        "print(a)"
      ],
      "metadata": {
        "colab": {
          "base_uri": "https://localhost:8080/"
        },
        "id": "p2tMv0xHxgj8",
        "outputId": "caa1034d-882a-4195-f252-7bfd67e35012"
      },
      "execution_count": 8,
      "outputs": [
        {
          "output_type": "stream",
          "name": "stdout",
          "text": [
            "[0 1 2 3 4 5 6 7 8 9]\n",
            "[  0   1   2 100 100 100   6   7   8   9]\n",
            "[  0   1   2 100 200 300   6   7   8   9]\n",
            "[0 1 2 3 4 5 6 7 8 9]\n",
            "[  0   1 100   3 100   5 100   7   8   9]\n"
          ]
        }
      ]
    },
    {
      "cell_type": "markdown",
      "source": [
        "### 多次元配列のadarrayのスライス"
      ],
      "metadata": {
        "id": "5__OEtQY2jdp"
      }
    },
    {
      "cell_type": "code",
      "source": [
        "a = np.arange(12).reshape((3,4))\n",
        "print(a)\n",
        "print(a[1:, 1:3])\n",
        "b = np.arange(20).reshape(5,4)\n",
        "print(b)"
      ],
      "metadata": {
        "colab": {
          "base_uri": "https://localhost:8080/"
        },
        "id": "kxWl2HgT0CaU",
        "outputId": "1febc361-a88e-4ea4-930c-93a1bdfa0ac5"
      },
      "execution_count": 9,
      "outputs": [
        {
          "output_type": "stream",
          "name": "stdout",
          "text": [
            "[[ 0  1  2  3]\n",
            " [ 4  5  6  7]\n",
            " [ 8  9 10 11]]\n",
            "[[ 5  6]\n",
            " [ 9 10]]\n",
            "[[ 0  1  2  3]\n",
            " [ 4  5  6  7]\n",
            " [ 8  9 10 11]\n",
            " [12 13 14 15]\n",
            " [16 17 18 19]]\n"
          ]
        }
      ]
    },
    {
      "cell_type": "code",
      "source": [
        "#要素数12の3行4列の2次元配列を作る\n",
        "a = np.arange(12).reshape(3,4)\n",
        "print(a)\n",
        "#5,6,9,10の部分をスライス\n",
        "print(a[1:,1:3])\n",
        "a[1:,1:3] = 100\n",
        "print(a)\n",
        "a = np.arange(12).reshape(3,4)\n",
        "#多次元での上書きにリストを使う\n",
        "a[1:,1:3] = [100,200]\n",
        "print(a)\n",
        "#多次元の上書きに2次元のリスろを使う\n",
        "a[1:,1:3] = [[100,200],[300,400]]\n",
        "print(a)"
      ],
      "metadata": {
        "id": "6h3VWl_43F9x",
        "colab": {
          "base_uri": "https://localhost:8080/"
        },
        "outputId": "a77274db-e014-4f47-b14b-f60f2379ba66"
      },
      "execution_count": 10,
      "outputs": [
        {
          "output_type": "stream",
          "name": "stdout",
          "text": [
            "[[ 0  1  2  3]\n",
            " [ 4  5  6  7]\n",
            " [ 8  9 10 11]]\n",
            "[[ 5  6]\n",
            " [ 9 10]]\n",
            "[[  0   1   2   3]\n",
            " [  4 100 100   7]\n",
            " [  8 100 100  11]]\n",
            "[[  0   1   2   3]\n",
            " [  4 100 200   7]\n",
            " [  8 100 200  11]]\n",
            "[[  0   1   2   3]\n",
            " [  4 100 200   7]\n",
            " [  8 300 400  11]]\n"
          ]
        }
      ]
    },
    {
      "cell_type": "markdown",
      "source": [
        "###多次元のndarrayへのstepを使ったスライスでの代入"
      ],
      "metadata": {
        "id": "oUMpbIFfqyYL"
      }
    },
    {
      "cell_type": "code",
      "source": [
        "#要素数12 3行4列のndarrayを作って変数aに代入\n",
        "a = np.arange(12).reshape(3,4)\n",
        "print(a)\n",
        "#スライスにstepを使ってみる\n",
        "print(a[1:,::2])\n",
        "#0,3,4,7を抜き出す\n",
        "print(a[:2:, ::3])\n",
        "a[1:,::2] = 100\n",
        "print(a)\n",
        "#4,6,8,10だったところをリストで上書き\n",
        "a[1:,::2] = [100,200]\n",
        "print(a)\n",
        "#4,6,8,10だったところを多次元リストで上書き\n",
        "a[1:,::2] = [[100,200],[300,400]]\n",
        "print(a)"
      ],
      "metadata": {
        "colab": {
          "base_uri": "https://localhost:8080/"
        },
        "id": "u1lURy0Uqqgq",
        "outputId": "78dc7b57-9a08-46a4-8625-29387a6fb422"
      },
      "execution_count": 11,
      "outputs": [
        {
          "output_type": "stream",
          "name": "stdout",
          "text": [
            "[[ 0  1  2  3]\n",
            " [ 4  5  6  7]\n",
            " [ 8  9 10 11]]\n",
            "[[ 4  6]\n",
            " [ 8 10]]\n",
            "[[0 3]\n",
            " [4 7]]\n",
            "[[  0   1   2   3]\n",
            " [100   5 100   7]\n",
            " [100   9 100  11]]\n",
            "[[  0   1   2   3]\n",
            " [100   5 200   7]\n",
            " [100   9 200  11]]\n",
            "[[  0   1   2   3]\n",
            " [100   5 200   7]\n",
            " [300   9 400  11]]\n"
          ]
        }
      ]
    },
    {
      "cell_type": "code",
      "source": [],
      "metadata": {
        "id": "BteERx-3wFfm"
      },
      "execution_count": null,
      "outputs": []
    }
  ]
}