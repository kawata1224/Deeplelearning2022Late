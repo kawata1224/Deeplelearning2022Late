{
  "nbformat": 4,
  "nbformat_minor": 0,
  "metadata": {
    "colab": {
      "provenance": [],
      "include_colab_link": true
    },
    "kernelspec": {
      "name": "python3",
      "display_name": "Python 3"
    },
    "language_info": {
      "name": "python"
    }
  },
  "cells": [
    {
      "cell_type": "markdown",
      "metadata": {
        "id": "view-in-github",
        "colab_type": "text"
      },
      "source": [
        "<a href=\"https://colab.research.google.com/github/kawata1224/Deeplelearning2022Late/blob/main/%E3%83%A2%E3%82%B8%E3%83%A5%E3%83%BC%E3%83%AB%E3%81%A8%E3%83%A9%E3%82%A4%E3%83%96%E3%83%A9%E3%83%AA%E3%81%AE%E4%BD%BF%E7%94%A80920.ipynb\" target=\"_parent\"><img src=\"https://colab.research.google.com/assets/colab-badge.svg\" alt=\"Open In Colab\"/></a>"
      ]
    },
    {
      "cell_type": "markdown",
      "source": [
        "#モジュールを使う\n",
        "##import文でもモジュールを読み込んで使う\n",
        "例）math"
      ],
      "metadata": {
        "id": "MZmxyl3O9R2I"
      }
    },
    {
      "cell_type": "code",
      "execution_count": null,
      "metadata": {
        "colab": {
          "base_uri": "https://localhost:8080/"
        },
        "id": "5Z_oMwbT9ChS",
        "outputId": "bd1473b5-7498-4f38-b677-d5c5a3783edf"
      },
      "outputs": [
        {
          "output_type": "stream",
          "name": "stdout",
          "text": [
            "3.141592653589793\n",
            "25.0\n",
            "3.0\n"
          ]
        }
      ],
      "source": [
        "#mathモジュールを読み込む\n",
        "import math\n",
        "print(math.pi)\n",
        "print(math.pow(5,2))\n",
        "print(math.sqrt(9))"
      ]
    },
    {
      "cell_type": "markdown",
      "source": [
        "##Numpy -- 数値計算用の便利なライブラリ\n"
      ],
      "metadata": {
        "id": "KU6MMGanAFfA"
      }
    },
    {
      "cell_type": "code",
      "source": [
        "import numpy as np"
      ],
      "metadata": {
        "id": "ly3Af4N4-BeI"
      },
      "execution_count": null,
      "outputs": []
    },
    {
      "cell_type": "markdown",
      "source": [
        "###numpy配列(ndarry)を作る"
      ],
      "metadata": {
        "id": "dweyuLCjpnov"
      }
    },
    {
      "cell_type": "code",
      "source": [
        "a = np.array([5,7,3,1,4,3])\n",
        "print(a)"
      ],
      "metadata": {
        "colab": {
          "base_uri": "https://localhost:8080/"
        },
        "id": "a7gfsSkEpjha",
        "outputId": "56a833d8-bbfa-4dd6-8809-33129468e8f7"
      },
      "execution_count": null,
      "outputs": [
        {
          "output_type": "stream",
          "name": "stdout",
          "text": [
            "[5 7 3 1 4 3]\n"
          ]
        }
      ]
    },
    {
      "cell_type": "markdown",
      "source": [
        "###配列を構成し直す\n"
      ],
      "metadata": {
        "id": "j-nSFVVJq3r9"
      }
    },
    {
      "cell_type": "code",
      "source": [
        "print(a)\n",
        "b = a.reshape([3,2])\n",
        "print(b)"
      ],
      "metadata": {
        "colab": {
          "base_uri": "https://localhost:8080/"
        },
        "id": "vKH5VF0Op2zz",
        "outputId": "d8b9827f-3cb9-419f-fded-aff191f58e3e"
      },
      "execution_count": null,
      "outputs": [
        {
          "output_type": "stream",
          "name": "stdout",
          "text": [
            "[5 7 3 1 4 3]\n",
            "[[5 7]\n",
            " [3 1]\n",
            " [4 3]]\n"
          ]
        }
      ]
    },
    {
      "cell_type": "code",
      "source": [
        "c = np.zeros((3,4))\n",
        "print(c)\n",
        "np.random.seed(0)\n",
        "r = np.random.rand(3,4)\n",
        "print(r)"
      ],
      "metadata": {
        "colab": {
          "base_uri": "https://localhost:8080/"
        },
        "id": "IZsBxaLwrMQ7",
        "outputId": "51bcdb36-c51a-4b19-8815-035285fd60e3"
      },
      "execution_count": null,
      "outputs": [
        {
          "output_type": "stream",
          "name": "stdout",
          "text": [
            "[[0. 0. 0. 0.]\n",
            " [0. 0. 0. 0.]\n",
            " [0. 0. 0. 0.]]\n",
            "[[0.5488135  0.71518937 0.60276338 0.54488318]\n",
            " [0.4236548  0.64589411 0.43758721 0.891773  ]\n",
            " [0.96366276 0.38344152 0.79172504 0.52889492]]\n"
          ]
        }
      ]
    },
    {
      "cell_type": "markdown",
      "source": [
        "###スライス"
      ],
      "metadata": {
        "id": "H7N4dkjHvXO8"
      }
    },
    {
      "cell_type": "code",
      "source": [
        "l = list(range(10))\n",
        "print(l)\n",
        "print(l[4:8])\n",
        "print(l[::-1])"
      ],
      "metadata": {
        "colab": {
          "base_uri": "https://localhost:8080/"
        },
        "id": "liAtRNk7uWI4",
        "outputId": "d8c8dc39-da88-41ee-a158-e4c99a99fdbc"
      },
      "execution_count": null,
      "outputs": [
        {
          "output_type": "stream",
          "name": "stdout",
          "text": [
            "[0, 1, 2, 3, 4, 5, 6, 7, 8, 9]\n",
            "[4, 5, 6, 7]\n",
            "[9, 8, 7, 6, 5, 4, 3, 2, 1, 0]\n"
          ]
        }
      ]
    },
    {
      "cell_type": "code",
      "source": [
        "a = np.arange(10)\n",
        "print(a)\n",
        "print(a[2:8])\n",
        "print(a[2:8:2])\n",
        "print(a[2:8:3])"
      ],
      "metadata": {
        "colab": {
          "base_uri": "https://localhost:8080/"
        },
        "id": "N4t9tWs0vns8",
        "outputId": "1b86b9a9-852f-481f-cd67-3cfcdda68bed"
      },
      "execution_count": null,
      "outputs": [
        {
          "output_type": "stream",
          "name": "stdout",
          "text": [
            "[0 1 2 3 4 5 6 7 8 9]\n",
            "[2 3 4 5 6 7]\n",
            "[2 4 6]\n",
            "[2 5]\n"
          ]
        }
      ]
    },
    {
      "cell_type": "code",
      "source": [
        "print(a)\n",
        "a[3:6] = 100\n",
        "print(a)\n",
        "a[3:6] = [100,200,300]\n",
        "print(a)\n",
        "a = np.arange(10)\n",
        "print(a)\n",
        "a[2:8:2] = 100\n",
        "print(a)"
      ],
      "metadata": {
        "colab": {
          "base_uri": "https://localhost:8080/"
        },
        "id": "cmdNHGmrzoqt",
        "outputId": "f59072bd-60a7-477f-94ee-3edeb9ba23f1"
      },
      "execution_count": null,
      "outputs": [
        {
          "output_type": "stream",
          "name": "stdout",
          "text": [
            "[0 1 2 3 4 5 6 7 8 9]\n",
            "[  0   1   2 100 100 100   6   7   8   9]\n",
            "[  0   1   2 100 200 300   6   7   8   9]\n",
            "[0 1 2 3 4 5 6 7 8 9]\n",
            "[  0   1 100   3 100   5 100   7   8   9]\n"
          ]
        }
      ]
    },
    {
      "cell_type": "code",
      "source": [
        "a  = np.arange(12).reshape((3,4))\n",
        "print(a)\n",
        "print(a[1: , :1:3])\n",
        "b = np.arange(20).reshape(5,4)\n",
        "print(b)"
      ],
      "metadata": {
        "colab": {
          "base_uri": "https://localhost:8080/"
        },
        "id": "s-0pfEoV0DYU",
        "outputId": "0074e88e-947c-4313-9a34-64777ed0ed13"
      },
      "execution_count": null,
      "outputs": [
        {
          "output_type": "stream",
          "name": "stdout",
          "text": [
            "[[ 0  1  2  3]\n",
            " [ 4  5  6  7]\n",
            " [ 8  9 10 11]]\n",
            "[[4]\n",
            " [8]]\n",
            "[[ 0  1  2  3]\n",
            " [ 4  5  6  7]\n",
            " [ 8  9 10 11]\n",
            " [12 13 14 15]\n",
            " [16 17 18 19]]\n"
          ]
        }
      ]
    },
    {
      "cell_type": "markdown",
      "source": [
        "###多次元のndarrayへのスライスでの代入"
      ],
      "metadata": {
        "id": "e6l1r7r6fDdi"
      }
    },
    {
      "cell_type": "code",
      "source": [
        "#要素数12の3行4列の2次元配列を作る\n",
        "a = np.arange(12).reshape(3,4)\n",
        "print(a)\n",
        "#5,6,9,10の部分をスライス\n",
        "print(a[1:,1:3])\n",
        "a[1:,1:3] = 100\n",
        "print(a)\n",
        "a = np.arange(12).reshape(3,4)\n",
        "#多次元での上書きにリストを使う\n",
        "a[1:,1:3] = [100,200]\n",
        "print(a)\n",
        "#多次元の上書きに2次元のリスろを使う\n",
        "a[1:,1:3] = [[100,200],[300,400]]\n",
        "print(a)"
      ],
      "metadata": {
        "id": "brNgynSA4Yok",
        "colab": {
          "base_uri": "https://localhost:8080/"
        },
        "outputId": "575c645a-0738-4b49-864f-b7254df1cbb4"
      },
      "execution_count": null,
      "outputs": [
        {
          "output_type": "stream",
          "name": "stdout",
          "text": [
            "[[ 0  1  2  3]\n",
            " [ 4  5  6  7]\n",
            " [ 8  9 10 11]]\n",
            "[[ 5  6]\n",
            " [ 9 10]]\n",
            "[[  0   1   2   3]\n",
            " [  4 100 100   7]\n",
            " [  8 100 100  11]]\n",
            "[[  0   1   2   3]\n",
            " [  4 100 200   7]\n",
            " [  8 100 200  11]]\n",
            "[[  0   1   2   3]\n",
            " [  4 100 200   7]\n",
            " [  8 300 400  11]]\n"
          ]
        }
      ]
    },
    {
      "cell_type": "markdown",
      "source": [
        "###多次元のndarrayへのstepを使ったスライスでの代入"
      ],
      "metadata": {
        "id": "60r8g_NciyZr"
      }
    },
    {
      "cell_type": "code",
      "source": [
        "#要素数12 3行4列のndarrayを作って変数aに代入\n",
        "a = np.arange(12).reshape(3,4)\n",
        "print(a)\n",
        "#スライスにstepを使ってみる\n",
        "print(a[1:,::2])\n",
        "#0,3,4,7を抜き出す\n",
        "print(a[:2:, ::3])\n",
        "a[1:,::2] = 100\n",
        "print(a)\n",
        "#4,6,8,10だったところをリストで上書き\n",
        "a[1:,::2] = [100,200]\n",
        "print(a)\n",
        "#4,6,8,10だったところを多次元リストで上書き\n",
        "a[1:,::2] = [[100,200],[300,400]]\n",
        "print(a)"
      ],
      "metadata": {
        "colab": {
          "base_uri": "https://localhost:8080/"
        },
        "id": "J6d-XhJhY70B",
        "outputId": "5fb2a527-16b7-44dd-ffec-d78a70077e36"
      },
      "execution_count": null,
      "outputs": [
        {
          "output_type": "stream",
          "name": "stdout",
          "text": [
            "[[ 0  1  2  3]\n",
            " [ 4  5  6  7]\n",
            " [ 8  9 10 11]]\n",
            "[[ 4  6]\n",
            " [ 8 10]]\n",
            "[[0 3]\n",
            " [4 7]]\n",
            "[[  0   1   2   3]\n",
            " [100   5 100   7]\n",
            " [100   9 100  11]]\n",
            "[[  0   1   2   3]\n",
            " [100   5 200   7]\n",
            " [100   9 200  11]]\n",
            "[[  0   1   2   3]\n",
            " [100   5 200   7]\n",
            " [300   9 400  11]]\n"
          ]
        }
      ]
    },
    {
      "cell_type": "code",
      "source": [],
      "metadata": {
        "id": "24rOgODOkR98"
      },
      "execution_count": null,
      "outputs": []
    }
  ]
}