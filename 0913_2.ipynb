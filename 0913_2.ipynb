{
  "nbformat": 4,
  "nbformat_minor": 0,
  "metadata": {
    "colab": {
      "provenance": [],
      "collapsed_sections": [],
      "toc_visible": true,
      "authorship_tag": "ABX9TyPMjDbfSIp4dxNJn55mPZy7",
      "include_colab_link": true
    },
    "kernelspec": {
      "name": "python3",
      "display_name": "Python 3"
    },
    "language_info": {
      "name": "python"
    }
  },
  "cells": [
    {
      "cell_type": "markdown",
      "metadata": {
        "id": "view-in-github",
        "colab_type": "text"
      },
      "source": [
        "<a href=\"https://colab.research.google.com/github/kawata1224/Deeplelearning2022Late/blob/main/0913_2.ipynb\" target=\"_parent\"><img src=\"https://colab.research.google.com/assets/colab-badge.svg\" alt=\"Open In Colab\"/></a>"
      ]
    },
    {
      "cell_type": "markdown",
      "source": [
        "# 辞書型(dictionary)\n",
        "キーと値のペアで管理する"
      ],
      "metadata": {
        "id": "hZbv07fZ279q"
      }
    },
    {
      "cell_type": "markdown",
      "source": [
        "## 辞書型の定義文"
      ],
      "metadata": {
        "id": "b_SxXJf9zwkq"
      }
    },
    {
      "cell_type": "markdown",
      "source": [],
      "metadata": {
        "id": "5aviw1hh26SY"
      }
    },
    {
      "cell_type": "code",
      "source": [
        "dict = {'アップル':1, 'ペン':2, 'パイナップル':3}\n",
        "print(dict)\n",
        "print(dict['ペン'])"
      ],
      "metadata": {
        "colab": {
          "base_uri": "https://localhost:8080/"
        },
        "id": "sT9PEofn0E1h",
        "outputId": "f07c1318-c51a-4744-9c4c-f0ee923163eb"
      },
      "execution_count": 1,
      "outputs": [
        {
          "output_type": "stream",
          "name": "stdout",
          "text": [
            "{'アップル': 1, 'ペン': 2, 'パイナップル': 3}\n",
            "2\n"
          ]
        }
      ]
    },
    {
      "cell_type": "markdown",
      "source": [
        "## 辞書型のキーワード一覧、値一覧を取得する"
      ],
      "metadata": {
        "id": "3SLznBow1rJ2"
      }
    },
    {
      "cell_type": "code",
      "source": [
        "print(dict)\n",
        "print(dict.keys())\n",
        "print(dict.values())"
      ],
      "metadata": {
        "colab": {
          "base_uri": "https://localhost:8080/"
        },
        "id": "zsOs17V-153x",
        "outputId": "904acd60-a5a1-40e1-c4fa-d043b23be441"
      },
      "execution_count": 2,
      "outputs": [
        {
          "output_type": "stream",
          "name": "stdout",
          "text": [
            "{'アップル': 1, 'ペン': 2, 'パイナップル': 3}\n",
            "dict_keys(['アップル', 'ペン', 'パイナップル'])\n",
            "dict_values([1, 2, 3])\n"
          ]
        }
      ]
    },
    {
      "cell_type": "markdown",
      "source": [
        "## 辞書型の追加・削除・更新"
      ],
      "metadata": {
        "id": "f9qibgoy1Ibr"
      }
    },
    {
      "cell_type": "code",
      "source": [
        "print(dict)\n",
        "dict['バナナ'] = 5\n",
        "print(dict)\n",
        "dict['バナナ'] = 100\n",
        "print(dict)\n",
        "dict.pop('バナナ')\n",
        "print(dict)"
      ],
      "metadata": {
        "colab": {
          "base_uri": "https://localhost:8080/"
        },
        "id": "4_ivJ1Ab0aN9",
        "outputId": "7333d47b-17c8-41c3-c375-05b8a477fc34"
      },
      "execution_count": 3,
      "outputs": [
        {
          "output_type": "stream",
          "name": "stdout",
          "text": [
            "{'アップル': 1, 'ペン': 2, 'パイナップル': 3}\n",
            "{'アップル': 1, 'ペン': 2, 'パイナップル': 3, 'バナナ': 5}\n",
            "{'アップル': 1, 'ペン': 2, 'パイナップル': 3, 'バナナ': 100}\n",
            "{'アップル': 1, 'ペン': 2, 'パイナップル': 3}\n"
          ]
        }
      ]
    },
    {
      "cell_type": "markdown",
      "source": [
        "# 文字列の整形\n",
        "## 文字列の連結と繰り返し\n"
      ],
      "metadata": {
        "id": "8FSWliT24YPG"
      }
    },
    {
      "cell_type": "code",
      "source": [
        "apple = 'アップル'\n",
        "pen = 'ペン'\n",
        "print(apple + pen)\n",
        "piko = ['ペン','パイナップル','アップル','ペン']\n",
        "print( ',' .join(piko))\n",
        "pon = 'ポン'\n",
        "print(pon *3)"
      ],
      "metadata": {
        "colab": {
          "base_uri": "https://localhost:8080/"
        },
        "id": "ZJIHC7ik22M4",
        "outputId": "295a192e-96e6-492b-849f-26c085ccec01"
      },
      "execution_count": 4,
      "outputs": [
        {
          "output_type": "stream",
          "name": "stdout",
          "text": [
            "アップルペン\n",
            "ペン,パイナップル,アップル,ペン\n",
            "ポンポンポン\n"
          ]
        }
      ]
    },
    {
      "cell_type": "markdown",
      "source": [
        "## 【重要】文字列の整形(フォーマット)"
      ],
      "metadata": {
        "id": "JffaCLEL7HA6"
      }
    },
    {
      "cell_type": "code",
      "source": [
        "print('{}{}:{}円')\n",
        "print('{}{}:{}円'.format('アップル','ペン',100))\n",
        "print('{1}{2}:{0}円'.format(100,'アップル','ペン'))"
      ],
      "metadata": {
        "colab": {
          "base_uri": "https://localhost:8080/"
        },
        "id": "Kl8EKo3A5eFw",
        "outputId": "eabad08d-5049-45cd-d5d4-1ac990601b3c"
      },
      "execution_count": 5,
      "outputs": [
        {
          "output_type": "stream",
          "name": "stdout",
          "text": [
            "{}{}:{}円\n",
            "アップルペン:100円\n",
            "アップルペン:100円\n"
          ]
        }
      ]
    },
    {
      "cell_type": "markdown",
      "source": [
        "#コレクション演算\n",
        "リスト、タプル、つまり順番がある場合のことをシーケンスという。\n",
        "順番がない集合を集合型(セット)という。\n",
        "上記の２種類をまとめてコレクションという。\n",
        "コレクションは共通の演算が使えるlen(長さ、量を取得)、max(最大値を取得)、min(最小値を取得)など"
      ],
      "metadata": {
        "id": "TD8EhD13W-7g"
      }
    },
    {
      "cell_type": "code",
      "source": [
        "list = [1, 1, 2, 3, 4, 5]\n",
        "tuple = (10, 9 ,7, 7, 8, 8, 9)\n",
        "set = {1, -2, 3, -4, 5, -6, 7, -8}\n",
        "print(len(list), max(list), min(list))\n",
        "print(len(tuple), max(tuple), min(tuple))\n",
        "print(len(set), max(set), min(set))"
      ],
      "metadata": {
        "id": "KbCJ5y5J7h4Q",
        "colab": {
          "base_uri": "https://localhost:8080/"
        },
        "outputId": "e3e0cda0-8d1d-4120-dc92-43ced83cf661"
      },
      "execution_count": 7,
      "outputs": [
        {
          "output_type": "stream",
          "name": "stdout",
          "text": [
            "6 5 1\n",
            "7 10 7\n",
            "8 7 -8\n"
          ]
        }
      ]
    },
    {
      "cell_type": "code",
      "source": [],
      "metadata": {
        "id": "aKLq4kZ4ZDEG"
      },
      "execution_count": null,
      "outputs": []
    }
  ]
}