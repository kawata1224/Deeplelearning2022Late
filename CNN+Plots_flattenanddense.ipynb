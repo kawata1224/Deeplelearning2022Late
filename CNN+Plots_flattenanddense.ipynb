{
  "nbformat": 4,
  "nbformat_minor": 0,
  "metadata": {
    "colab": {
      "provenance": [],
      "include_colab_link": true
    },
    "kernelspec": {
      "name": "python3",
      "display_name": "Python 3"
    },
    "language_info": {
      "name": "python"
    }
  },
  "cells": [
    {
      "cell_type": "markdown",
      "metadata": {
        "id": "view-in-github",
        "colab_type": "text"
      },
      "source": [
        "<a href=\"https://colab.research.google.com/github/kawata1224/Deeplelearning2022Late/blob/main/CNN%2BPlots_flattenanddense.ipynb\" target=\"_parent\"><img src=\"https://colab.research.google.com/assets/colab-badge.svg\" alt=\"Open In Colab\"/></a>"
      ]
    },
    {
      "cell_type": "code",
      "execution_count": null,
      "metadata": {
        "id": "M7MYliBaTwD6"
      },
      "outputs": [],
      "source": [
        "from keras.models import Sequential, Model # 学習モデルのクラス\n",
        "from keras.layers import Conv2D # 畳み込み層のクラス\n",
        "from keras.layers import Flatten # 全結合層用のクラス\n",
        "from keras.layers import Dense # （分類出力用の）普通のニューロン層"
      ]
    },
    {
      "cell_type": "code",
      "source": [
        "from IPython.display import SVG\n",
        "from keras.utils.vis_utils import model_to_dot"
      ],
      "metadata": {
        "id": "cgY2XzQaU8FC"
      },
      "execution_count": null,
      "outputs": []
    },
    {
      "cell_type": "code",
      "source": [
        "model = Sequential()"
      ],
      "metadata": {
        "id": "ztt27rdlFqv6"
      },
      "execution_count": null,
      "outputs": []
    },
    {
      "cell_type": "code",
      "source": [
        "# 畳み込み層追加\n",
        "model.add(  Conv2D( \n",
        "    filters=3, # ３パターンのフィルター\n",
        "    kernel_size=( 3, 3 ), # 受容野縦3,横3\n",
        "    input_shape=(6, 6, 1), # 入力画像１個分の形縦6,横6\n",
        "     padding='same', # ゼロパディング\n",
        "     name='Conv2D'\n",
        "  )   )"
      ],
      "metadata": {
        "id": "OnQUA958FtGG"
      },
      "execution_count": null,
      "outputs": []
    },
    {
      "cell_type": "code",
      "source": [
        "#　全結合層を追加\n",
        "model.add( Flatten(  name='Flatten_1'  )  )"
      ],
      "metadata": {
        "id": "m7efdrrzFxG1"
      },
      "execution_count": null,
      "outputs": []
    },
    {
      "cell_type": "code",
      "source": [
        "# softmax分類を追加\n",
        "model.add(  Dense(  units=10, # 10個のニューロンに分類\n",
        "                  activation='softmax', # 活性化関数softmaxで分類\n",
        "                  name='Dense_1'\n",
        "                  )  )"
      ],
      "metadata": {
        "id": "v1lrsYbZFzFz"
      },
      "execution_count": null,
      "outputs": []
    },
    {
      "cell_type": "code",
      "source": [
        "SVG(  model_to_dot( model,\n",
        "                  show_shapes=True,\n",
        "                  dpi=None  ).create( prog='dot', format='svg'  )  )"
      ],
      "metadata": {
        "colab": {
          "base_uri": "https://localhost:8080/",
          "height": 427
        },
        "id": "o31nXjVNF2Ah",
        "outputId": "8d27e41e-eaed-4d14-a969-7b2f106f7623"
      },
      "execution_count": null,
      "outputs": [
        {
          "output_type": "execute_result",
          "data": {
            "text/plain": [
              "<IPython.core.display.SVG object>"
            ],
            "image/svg+xml": "<svg height=\"304pt\" viewBox=\"0.00 0.00 353.50 304.00\" width=\"354pt\" xmlns=\"http://www.w3.org/2000/svg\" xmlns:xlink=\"http://www.w3.org/1999/xlink\">\n<g class=\"graph\" id=\"graph0\" transform=\"scale(1 1) rotate(0) translate(4 300)\">\n<title>G</title>\n<polygon fill=\"#ffffff\" points=\"-4,4 -4,-300 349.5,-300 349.5,4 -4,4\" stroke=\"transparent\"/>\n<!-- dpi -->\n<g class=\"node\" id=\"node1\">\n<title>dpi</title>\n<ellipse cx=\"27\" cy=\"-272.5\" fill=\"none\" rx=\"27\" ry=\"18\" stroke=\"#000000\"/>\n<text fill=\"#000000\" font-family=\"Times,serif\" font-size=\"14.00\" text-anchor=\"middle\" x=\"27\" y=\"-268.8\">dpi</text>\n</g>\n<!-- 140437866610064 -->\n<g class=\"node\" id=\"node2\">\n<title>140437866610064</title>\n<polygon fill=\"none\" points=\"72.5,-249.5 72.5,-295.5 345.5,-295.5 345.5,-249.5 72.5,-249.5\" stroke=\"#000000\"/>\n<text fill=\"#000000\" font-family=\"Times,serif\" font-size=\"14.00\" text-anchor=\"middle\" x=\"124.5\" y=\"-280.3\">Conv2D_input</text>\n<polyline fill=\"none\" points=\"72.5,-272.5 176.5,-272.5 \" stroke=\"#000000\"/>\n<text fill=\"#000000\" font-family=\"Times,serif\" font-size=\"14.00\" text-anchor=\"middle\" x=\"124.5\" y=\"-257.3\">InputLayer</text>\n<polyline fill=\"none\" points=\"176.5,-249.5 176.5,-295.5 \" stroke=\"#000000\"/>\n<text fill=\"#000000\" font-family=\"Times,serif\" font-size=\"14.00\" text-anchor=\"middle\" x=\"205.5\" y=\"-280.3\">input:</text>\n<polyline fill=\"none\" points=\"176.5,-272.5 234.5,-272.5 \" stroke=\"#000000\"/>\n<text fill=\"#000000\" font-family=\"Times,serif\" font-size=\"14.00\" text-anchor=\"middle\" x=\"205.5\" y=\"-257.3\">output:</text>\n<polyline fill=\"none\" points=\"234.5,-249.5 234.5,-295.5 \" stroke=\"#000000\"/>\n<text fill=\"#000000\" font-family=\"Times,serif\" font-size=\"14.00\" text-anchor=\"middle\" x=\"290\" y=\"-280.3\">[(None, 6, 6, 1)]</text>\n<polyline fill=\"none\" points=\"234.5,-272.5 345.5,-272.5 \" stroke=\"#000000\"/>\n<text fill=\"#000000\" font-family=\"Times,serif\" font-size=\"14.00\" text-anchor=\"middle\" x=\"290\" y=\"-257.3\">[(None, 6, 6, 1)]</text>\n</g>\n<!-- 140437866610320 -->\n<g class=\"node\" id=\"node3\">\n<title>140437866610320</title>\n<polygon fill=\"none\" points=\"95.5,-166.5 95.5,-212.5 322.5,-212.5 322.5,-166.5 95.5,-166.5\" stroke=\"#000000\"/>\n<text fill=\"#000000\" font-family=\"Times,serif\" font-size=\"14.00\" text-anchor=\"middle\" x=\"129\" y=\"-197.3\">Conv2D</text>\n<polyline fill=\"none\" points=\"95.5,-189.5 162.5,-189.5 \" stroke=\"#000000\"/>\n<text fill=\"#000000\" font-family=\"Times,serif\" font-size=\"14.00\" text-anchor=\"middle\" x=\"129\" y=\"-174.3\">Conv2D</text>\n<polyline fill=\"none\" points=\"162.5,-166.5 162.5,-212.5 \" stroke=\"#000000\"/>\n<text fill=\"#000000\" font-family=\"Times,serif\" font-size=\"14.00\" text-anchor=\"middle\" x=\"191.5\" y=\"-197.3\">input:</text>\n<polyline fill=\"none\" points=\"162.5,-189.5 220.5,-189.5 \" stroke=\"#000000\"/>\n<text fill=\"#000000\" font-family=\"Times,serif\" font-size=\"14.00\" text-anchor=\"middle\" x=\"191.5\" y=\"-174.3\">output:</text>\n<polyline fill=\"none\" points=\"220.5,-166.5 220.5,-212.5 \" stroke=\"#000000\"/>\n<text fill=\"#000000\" font-family=\"Times,serif\" font-size=\"14.00\" text-anchor=\"middle\" x=\"271.5\" y=\"-197.3\">(None, 6, 6, 1)</text>\n<polyline fill=\"none\" points=\"220.5,-189.5 322.5,-189.5 \" stroke=\"#000000\"/>\n<text fill=\"#000000\" font-family=\"Times,serif\" font-size=\"14.00\" text-anchor=\"middle\" x=\"271.5\" y=\"-174.3\">(None, 6, 6, 3)</text>\n</g>\n<!-- 140437866610064&#45;&gt;140437866610320 -->\n<g class=\"edge\" id=\"edge1\">\n<title>140437866610064-&gt;140437866610320</title>\n<path d=\"M209,-249.3799C209,-241.1745 209,-231.7679 209,-222.8786\" fill=\"none\" stroke=\"#000000\"/>\n<polygon fill=\"#000000\" points=\"212.5001,-222.784 209,-212.784 205.5001,-222.784 212.5001,-222.784\" stroke=\"#000000\"/>\n</g>\n<!-- 140437866666576 -->\n<g class=\"node\" id=\"node4\">\n<title>140437866666576</title>\n<polygon fill=\"none\" points=\"93.5,-83.5 93.5,-129.5 324.5,-129.5 324.5,-83.5 93.5,-83.5\" stroke=\"#000000\"/>\n<text fill=\"#000000\" font-family=\"Times,serif\" font-size=\"14.00\" text-anchor=\"middle\" x=\"129\" y=\"-114.3\">Flatten_1</text>\n<polyline fill=\"none\" points=\"93.5,-106.5 164.5,-106.5 \" stroke=\"#000000\"/>\n<text fill=\"#000000\" font-family=\"Times,serif\" font-size=\"14.00\" text-anchor=\"middle\" x=\"129\" y=\"-91.3\">Flatten</text>\n<polyline fill=\"none\" points=\"164.5,-83.5 164.5,-129.5 \" stroke=\"#000000\"/>\n<text fill=\"#000000\" font-family=\"Times,serif\" font-size=\"14.00\" text-anchor=\"middle\" x=\"193.5\" y=\"-114.3\">input:</text>\n<polyline fill=\"none\" points=\"164.5,-106.5 222.5,-106.5 \" stroke=\"#000000\"/>\n<text fill=\"#000000\" font-family=\"Times,serif\" font-size=\"14.00\" text-anchor=\"middle\" x=\"193.5\" y=\"-91.3\">output:</text>\n<polyline fill=\"none\" points=\"222.5,-83.5 222.5,-129.5 \" stroke=\"#000000\"/>\n<text fill=\"#000000\" font-family=\"Times,serif\" font-size=\"14.00\" text-anchor=\"middle\" x=\"273.5\" y=\"-114.3\">(None, 6, 6, 3)</text>\n<polyline fill=\"none\" points=\"222.5,-106.5 324.5,-106.5 \" stroke=\"#000000\"/>\n<text fill=\"#000000\" font-family=\"Times,serif\" font-size=\"14.00\" text-anchor=\"middle\" x=\"273.5\" y=\"-91.3\">(None, 108)</text>\n</g>\n<!-- 140437866610320&#45;&gt;140437866666576 -->\n<g class=\"edge\" id=\"edge2\">\n<title>140437866610320-&gt;140437866666576</title>\n<path d=\"M209,-166.3799C209,-158.1745 209,-148.7679 209,-139.8786\" fill=\"none\" stroke=\"#000000\"/>\n<polygon fill=\"#000000\" points=\"212.5001,-139.784 209,-129.784 205.5001,-139.784 212.5001,-139.784\" stroke=\"#000000\"/>\n</g>\n<!-- 140437866146192 -->\n<g class=\"node\" id=\"node5\">\n<title>140437866146192</title>\n<polygon fill=\"none\" points=\"103,-.5 103,-46.5 315,-46.5 315,-.5 103,-.5\" stroke=\"#000000\"/>\n<text fill=\"#000000\" font-family=\"Times,serif\" font-size=\"14.00\" text-anchor=\"middle\" x=\"136.5\" y=\"-31.3\">Dense_1</text>\n<polyline fill=\"none\" points=\"103,-23.5 170,-23.5 \" stroke=\"#000000\"/>\n<text fill=\"#000000\" font-family=\"Times,serif\" font-size=\"14.00\" text-anchor=\"middle\" x=\"136.5\" y=\"-8.3\">Dense</text>\n<polyline fill=\"none\" points=\"170,-.5 170,-46.5 \" stroke=\"#000000\"/>\n<text fill=\"#000000\" font-family=\"Times,serif\" font-size=\"14.00\" text-anchor=\"middle\" x=\"199\" y=\"-31.3\">input:</text>\n<polyline fill=\"none\" points=\"170,-23.5 228,-23.5 \" stroke=\"#000000\"/>\n<text fill=\"#000000\" font-family=\"Times,serif\" font-size=\"14.00\" text-anchor=\"middle\" x=\"199\" y=\"-8.3\">output:</text>\n<polyline fill=\"none\" points=\"228,-.5 228,-46.5 \" stroke=\"#000000\"/>\n<text fill=\"#000000\" font-family=\"Times,serif\" font-size=\"14.00\" text-anchor=\"middle\" x=\"271.5\" y=\"-31.3\">(None, 108)</text>\n<polyline fill=\"none\" points=\"228,-23.5 315,-23.5 \" stroke=\"#000000\"/>\n<text fill=\"#000000\" font-family=\"Times,serif\" font-size=\"14.00\" text-anchor=\"middle\" x=\"271.5\" y=\"-8.3\">(None, 10)</text>\n</g>\n<!-- 140437866666576&#45;&gt;140437866146192 -->\n<g class=\"edge\" id=\"edge3\">\n<title>140437866666576-&gt;140437866146192</title>\n<path d=\"M209,-83.3799C209,-75.1745 209,-65.7679 209,-56.8786\" fill=\"none\" stroke=\"#000000\"/>\n<polygon fill=\"#000000\" points=\"212.5001,-56.784 209,-46.784 205.5001,-56.784 212.5001,-56.784\" stroke=\"#000000\"/>\n</g>\n</g>\n</svg>"
          },
          "metadata": {},
          "execution_count": 16
        }
      ]
    },
    {
      "cell_type": "code",
      "source": [],
      "metadata": {
        "id": "ZUoMbNSUGFfu"
      },
      "execution_count": null,
      "outputs": []
    }
  ]
}