{
  "nbformat": 4,
  "nbformat_minor": 0,
  "metadata": {
    "colab": {
      "provenance": [],
      "include_colab_link": true
    },
    "kernelspec": {
      "name": "python3",
      "display_name": "Python 3"
    },
    "language_info": {
      "name": "python"
    }
  },
  "cells": [
    {
      "cell_type": "markdown",
      "metadata": {
        "id": "view-in-github",
        "colab_type": "text"
      },
      "source": [
        "<a href=\"https://colab.research.google.com/github/kawata1224/Deeplelearning2022Late/blob/main/DogVsCat2022.ipynb\" target=\"_parent\"><img src=\"https://colab.research.google.com/assets/colab-badge.svg\" alt=\"Open In Colab\"/></a>"
      ]
    },
    {
      "cell_type": "markdown",
      "source": [
        "###ライブラリの読み込み\n"
      ],
      "metadata": {
        "id": "Guu9Yexz6ywR"
      }
    },
    {
      "cell_type": "markdown",
      "source": [],
      "metadata": {
        "id": "0HHy7t6VeqaY"
      }
    },
    {
      "cell_type": "code",
      "execution_count": null,
      "metadata": {
        "id": "D4TUPMQ24NU4"
      },
      "outputs": [],
      "source": [
        "%matplotlib inline\n",
        "from keras.applications.vgg16 import VGG16, preprocess_input, decode_predictions\n",
        "from keras.preprocessing import image\n",
        "from PIL import Image\n",
        "import matplotlib.pyplot as plt\n",
        "import numpy as np\n",
        "import sys"
      ]
    },
    {
      "cell_type": "markdown",
      "source": [
        "###学習済みモデルの読み込み"
      ],
      "metadata": {
        "id": "POTbxOUW8kZL"
      }
    },
    {
      "cell_type": "code",
      "source": [
        "model = VGG16(weights = 'imagenet')"
      ],
      "metadata": {
        "id": "nh3Id2w97ofV"
      },
      "execution_count": null,
      "outputs": []
    },
    {
      "cell_type": "markdown",
      "source": [
        "###画像判定"
      ],
      "metadata": {
        "id": "3G2zvdwp81A4"
      }
    },
    {
      "cell_type": "code",
      "source": [
        "def predict(filename, featuresize):\n",
        "  img = image.load_img(filename, target_size=(224,224))\n",
        "  x = image.img_to_array(img)\n",
        "  x = np.expand_dims(x,axis=0)\n",
        "  preds = model.predict(preprocess_input(x))\n",
        "  results = decode_predictions(preds, top=featuresize)[0]\n",
        "  return results"
      ],
      "metadata": {
        "id": "6Yd9cbSD8vVm"
      },
      "execution_count": null,
      "outputs": []
    },
    {
      "cell_type": "code",
      "source": [
        "def showimg(filename,title,i):\n",
        "  im = Image.open(filename)\n",
        "  im_list = np.asarray(im)\n",
        "  plt.subplot(2,5,i)\n",
        "  plt.title(title)\n",
        "  plt.axis('off')\n",
        "  plt.imshow(im_list)"
      ],
      "metadata": {
        "id": "fcQ59gqdizcj"
      },
      "execution_count": null,
      "outputs": []
    },
    {
      "cell_type": "code",
      "source": [
        "# wgetでwebからファイルをダウンロードする\n",
        "\n",
        "# GoogleColabでコマンドを実行するときは、先頭に!マークを必ずつけること\n",
        "\n",
        "#小さいファイルをGoogleドライブからDLする時は、以下のようにURLをつけるだけでOK！\n",
        "!wget --load-cookies /tmp/cookies.txt \"https://drive.google.com/uc?export=download&confirm=$(wget --quiet --save-cookies /tmp/cookies.txt --keep-session-cookies --no-check-certificate 'https://drive.google.com/uc?export=download&id=1WQ9KZ-St4BqUWkqYJZYBIXQ8tT92DW_2' -O- | sed -rn 's/.*confirm=([0-9A-Za-z_]+).*/\\1\\n/p')&id=1WQ9KZ-St4BqUWkqYJZYBIXQ8tT92DW_2\" -O train.zip && rm -rf /tmp/cookies.txt\n",
        "\n",
        "!wget --load-cookies /tmp/cookies.txt \"https://drive.google.com/uc?export=download&confirm=$(wget --quiet --save-cookies /tmp/cookies.txt --keep-session-cookies --no-check-certificate 'https://drive.google.com/uc?export=download&id=1WQ9KZ-St4BqUWkqYJZYBIXQ8tT92DW_2' -O- | sed -rn 's/.*confirm=([0-9A-Za-z_]+).*/\\1\\n/p')&id=1WQ9KZ-St4BqUWkqYJZYBIXQ8tT92DW_2\" -O test.zip && rm -rf /tmp/cookies.txt"
      ],
      "metadata": {
        "id": "l1WHp1m6BLjb",
        "colab": {
          "base_uri": "https://localhost:8080/"
        },
        "outputId": "8f65df49-cc1b-46cb-f912-10fe0a68d79c"
      },
      "execution_count": null,
      "outputs": [
        {
          "output_type": "stream",
          "name": "stdout",
          "text": [
            "--2022-10-04 01:23:48--  https://drive.google.com/uc?export=download&confirm=t&id=1WQ9KZ-St4BqUWkqYJZYBIXQ8tT92DW_2\n",
            "Resolving drive.google.com (drive.google.com)... 108.177.97.100, 108.177.97.113, 108.177.97.139, ...\n",
            "Connecting to drive.google.com (drive.google.com)|108.177.97.100|:443... connected.\n",
            "HTTP request sent, awaiting response... 303 See Other\n",
            "Location: https://doc-0k-1s-docs.googleusercontent.com/docs/securesc/ha0ro937gcuc7l7deffksulhg5h7mbp1/33f5p53p8osktl1571pt3v8qui49vgct/1664846625000/14334177730080324288/*/1WQ9KZ-St4BqUWkqYJZYBIXQ8tT92DW_2?e=download&uuid=61f0a809-8a61-4c93-8895-f94ba561c64a [following]\n",
            "Warning: wildcards not supported in HTTP.\n",
            "--2022-10-04 01:23:49--  https://doc-0k-1s-docs.googleusercontent.com/docs/securesc/ha0ro937gcuc7l7deffksulhg5h7mbp1/33f5p53p8osktl1571pt3v8qui49vgct/1664846625000/14334177730080324288/*/1WQ9KZ-St4BqUWkqYJZYBIXQ8tT92DW_2?e=download&uuid=61f0a809-8a61-4c93-8895-f94ba561c64a\n",
            "Resolving doc-0k-1s-docs.googleusercontent.com (doc-0k-1s-docs.googleusercontent.com)... 142.251.8.132, 2404:6800:4008:c15::84\n",
            "Connecting to doc-0k-1s-docs.googleusercontent.com (doc-0k-1s-docs.googleusercontent.com)|142.251.8.132|:443... connected.\n",
            "HTTP request sent, awaiting response... 200 OK\n",
            "Length: 569872234 (543M) [application/x-zip-compressed]\n",
            "Saving to: ‘train.zip’\n",
            "\n",
            "train.zip           100%[===================>] 543.47M   190MB/s    in 2.9s    \n",
            "\n",
            "2022-10-04 01:23:53 (190 MB/s) - ‘train.zip’ saved [569872234/569872234]\n",
            "\n",
            "--2022-10-04 01:23:54--  https://drive.google.com/uc?export=download&confirm=t&id=1WQ9KZ-St4BqUWkqYJZYBIXQ8tT92DW_2\n",
            "Resolving drive.google.com (drive.google.com)... 108.177.97.100, 108.177.97.113, 108.177.97.139, ...\n",
            "Connecting to drive.google.com (drive.google.com)|108.177.97.100|:443... connected.\n",
            "HTTP request sent, awaiting response... 303 See Other\n",
            "Location: https://doc-0k-1s-docs.googleusercontent.com/docs/securesc/ha0ro937gcuc7l7deffksulhg5h7mbp1/33f5p53p8osktl1571pt3v8qui49vgct/1664846625000/14334177730080324288/*/1WQ9KZ-St4BqUWkqYJZYBIXQ8tT92DW_2?e=download&uuid=b24812bc-1b7f-4929-864e-b541173771ba [following]\n",
            "Warning: wildcards not supported in HTTP.\n",
            "--2022-10-04 01:23:54--  https://doc-0k-1s-docs.googleusercontent.com/docs/securesc/ha0ro937gcuc7l7deffksulhg5h7mbp1/33f5p53p8osktl1571pt3v8qui49vgct/1664846625000/14334177730080324288/*/1WQ9KZ-St4BqUWkqYJZYBIXQ8tT92DW_2?e=download&uuid=b24812bc-1b7f-4929-864e-b541173771ba\n",
            "Resolving doc-0k-1s-docs.googleusercontent.com (doc-0k-1s-docs.googleusercontent.com)... 142.251.8.132, 2404:6800:4008:c15::84\n",
            "Connecting to doc-0k-1s-docs.googleusercontent.com (doc-0k-1s-docs.googleusercontent.com)|142.251.8.132|:443... connected.\n",
            "HTTP request sent, awaiting response... 200 OK\n",
            "Length: 569872234 (543M) [application/x-zip-compressed]\n",
            "Saving to: ‘test.zip’\n",
            "\n",
            "test.zip            100%[===================>] 543.47M   197MB/s    in 2.8s    \n",
            "\n",
            "2022-10-04 01:23:57 (197 MB/s) - ‘test.zip’ saved [569872234/569872234]\n",
            "\n"
          ]
        }
      ]
    },
    {
      "cell_type": "markdown",
      "source": [
        "###Colbに自分のGoogleアカウントのドライブをマウントする"
      ],
      "metadata": {
        "id": "qseIE4ItzXTV"
      }
    },
    {
      "cell_type": "code",
      "source": [
        "from google.colab import drive\n",
        "drive.mount('/content/drive')"
      ],
      "metadata": {
        "colab": {
          "base_uri": "https://localhost:8080/"
        },
        "id": "ULup6KybzKHa",
        "outputId": "4e15c9a0-573d-4b7f-bb0b-5304242a8d34"
      },
      "execution_count": null,
      "outputs": [
        {
          "output_type": "stream",
          "name": "stdout",
          "text": [
            "Drive already mounted at /content/drive; to attempt to forcibly remount, call drive.mount(\"/content/drive\", force_remount=True).\n"
          ]
        }
      ]
    },
    {
      "cell_type": "markdown",
      "source": [
        "###*DLしてきたファイルをマウントしたディレクトリにコピーする\n"
      ],
      "metadata": {
        "id": "4WUihRtp1cKP"
      }
    },
    {
      "cell_type": "code",
      "source": [
        "import os\n",
        "dir_path = \"/content/drive/My Drive/2022LATE\"\n",
        "os.makedirs(dir_path, exist_ok=True)\n",
        "!pwd\n",
        "!cp train.zip \"/content/drive/My Drive/2022LATE\""
      ],
      "metadata": {
        "colab": {
          "base_uri": "https://localhost:8080/"
        },
        "id": "TPzqgUWbzrYd",
        "outputId": "69281a4e-c66d-4d96-f48e-3cc7cbbfe9f7"
      },
      "execution_count": null,
      "outputs": [
        {
          "output_type": "stream",
          "name": "stdout",
          "text": [
            "/content\n"
          ]
        }
      ]
    },
    {
      "cell_type": "code",
      "source": [
        "!cp \"/content/drive/My Drive/2022LATE/train.zip\""
      ],
      "metadata": {
        "colab": {
          "base_uri": "https://localhost:8080/"
        },
        "id": "08mtZ3cE1s-p",
        "outputId": "90f02544-16a5-4507-bb81-eb6847af9d86"
      },
      "execution_count": null,
      "outputs": [
        {
          "output_type": "stream",
          "name": "stdout",
          "text": [
            "cp: missing destination file operand after '/content/drive/My Drive/2022LATE/train.zip'\n",
            "Try 'cp --help' for more information.\n"
          ]
        }
      ]
    },
    {
      "cell_type": "code",
      "source": [
        "!unzip -o -q \"train.zip\"\n",
        "print(\"zip解凍完了\")"
      ],
      "metadata": {
        "colab": {
          "base_uri": "https://localhost:8080/"
        },
        "id": "9QTJoaHL5AxG",
        "outputId": "65a8c76c-5489-4240-cdb1-184c9cbb81e4"
      },
      "execution_count": null,
      "outputs": [
        {
          "output_type": "stream",
          "name": "stdout",
          "text": [
            "zip解凍完了\n"
          ]
        }
      ]
    },
    {
      "cell_type": "markdown",
      "source": [
        "###解凍した画像を使って画像判定させる"
      ],
      "metadata": {
        "id": "_jUedn9M5_Py"
      }
    },
    {
      "cell_type": "code",
      "source": [
        "filename=\"hasky.jpg\"\n",
        "plt.figure(figsize=(20,10))\n",
        "for i in range(1):\n",
        "  showimg(filename, \"what's this??\", i+1)\n",
        "  plt.show()\n",
        "  results = predict(filename, 10)\n",
        "  for result in results:\n",
        "    print(result)"
      ],
      "metadata": {
        "id": "AOOlSvP35R3W",
        "colab": {
          "base_uri": "https://localhost:8080/",
          "height": 348
        },
        "outputId": "a9447ef4-42a6-4990-b713-7ba6eb52fd38"
      },
      "execution_count": null,
      "outputs": [
        {
          "output_type": "display_data",
          "data": {
            "text/plain": [
              "<Figure size 1440x720 with 1 Axes>"
            ],
            "image/png": "[encoded data removed]"
          },
          "metadata": {
            "needs_background": "light"
          }
        },
        {
          "output_type": "stream",
          "name": "stdout",
          "text": [
            "('n02110185', 'Siberian_husky', 0.4568563)\n",
            "('n02109961', 'Eskimo_dog', 0.4029571)\n",
            "('n02110063', 'malamute', 0.13029024)\n",
            "('n02106662', 'German_shepherd', 0.0025464573)\n",
            "('n02091467', 'Norwegian_elkhound', 0.0019442016)\n",
            "('n02114367', 'timber_wolf', 0.0005841626)\n",
            "('n02097209', 'standard_schnauzer', 0.0005747189)\n",
            "('n03218198', 'dogsled', 0.00050332735)\n",
            "('n02105641', 'Old_English_sheepdog', 0.00047141127)\n",
            "('n02097047', 'miniature_schnauzer', 0.00021705266)\n"
          ]
        }
      ]
    },
    {
      "cell_type": "code",
      "source": [
        "\n"
      ],
      "metadata": {
        "id": "PQCploTIgpOh"
      },
      "execution_count": null,
      "outputs": []
    }
  ]
}